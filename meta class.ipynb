{
 "cells": [
  {
   "cell_type": "markdown",
   "metadata": {},
   "source": [
    "# 元类创建类的demo"
   ]
  },
  {
   "cell_type": "markdown",
   "metadata": {},
   "source": [
    "https://lotabout.me/2018/Understanding-Python-MetaClass/\n",
    "\n",
    "https://www.jianshu.com/p/a0d0e439abcc"
   ]
  },
  {
   "cell_type": "code",
   "execution_count": 135,
   "metadata": {},
   "outputs": [],
   "source": [
    "# 注册所有子类\n",
    "class Meta(type):     \n",
    "    record_cls = []\n",
    "\n",
    "    def __new__(cls, name, bases, attrs):\n",
    "        new_cls = type.__new__(cls, name, bases, attrs)\n",
    "        Meta.record_cls.append(new_cls)\n",
    "        return new_cls\n",
    "    \n",
    "    def __init__(cls, name, bases, namespace, **kwargs):\n",
    "        super().__init__(name, bases, namespace, **kwargs)\n",
    "        if not hasattr(cls, 'registory'):  # build only in the first subclass\n",
    "            # this is the base class\n",
    "            cls.registory = {}\n",
    "        else:\n",
    "            # this is the subclass\n",
    "            cls.registory[name.lower()] = cls\n",
    "            \n",
    "    def create(cls, class_name, *args, **kwargs):\n",
    "        return cls.registory[class_name.lower()](*args, **kwargs)\n",
    "    \n",
    "class MetaSon1(object,metaclass=Meta):\n",
    "    def __init__(self,age=12, height=166, weight=99):\n",
    "        self.age = age\n",
    "        self.height = height\n",
    "        self.weight = weight\n",
    "    def printall(self):\n",
    "        lst = dir(self)\n",
    "        tmp = {key:getattr(self,key) for key in lst if '_' not in key}\n",
    "        print(tmp)\n",
    "    pass\n",
    "\n",
    "class MetaSon2(object,metaclass=Meta):\n",
    "    def __init__(self,slogon='stupid'):\n",
    "        self.slogon = slogon\n",
    "    def printall(self):\n",
    "        lst = dir(self)\n",
    "        tmp = {key:getattr(self,key) for key in lst if '_' not in key}\n",
    "        print(tmp)\n",
    "    \n",
    "    pass\n",
    "\n",
    "class SonSon1(MetaSon1):\n",
    "    def __init__(self,iq=100,**kwargs):\n",
    "        super(SonSon1, self).__init__(**kwargs)\n",
    "        self.iq = iq\n",
    "    pass\n",
    "\n",
    "class SonSon2(MetaSon2):\n",
    "    def __init__(self,task=100,**kwargs):\n",
    "        super(SonSon2, self).__init__(**kwargs)\n",
    "        self.task = task\n",
    "    pass\n",
    "\n",
    "class SonSon3(MetaSon1):\n",
    "    pass\n",
    "\n",
    "class SonSonSon1(MetaSon1):\n",
    "    pass"
   ]
  },
  {
   "cell_type": "code",
   "execution_count": 136,
   "metadata": {},
   "outputs": [
    {
     "name": "stdout",
     "output_type": "stream",
     "text": [
      "--------Meta--------\n",
      " ['__abstractmethods__', '__base__', '__bases__', '__basicsize__', '__call__', '__class__', '__delattr__', '__dict__', '__dictoffset__', '__dir__', '__doc__', '__eq__', '__flags__', '__format__', '__ge__', '__getattribute__', '__gt__', '__hash__', '__init__', '__init_subclass__', '__instancecheck__', '__itemsize__', '__le__', '__lt__', '__module__', '__mro__', '__name__', '__ne__', '__new__', '__prepare__', '__qualname__', '__reduce__', '__reduce_ex__', '__repr__', '__setattr__', '__sizeof__', '__str__', '__subclasscheck__', '__subclasses__', '__subclasshook__', '__text_signature__', '__weakrefoffset__', 'create', 'mro', 'record_cls']\n",
      "--------MetaSon1--------\n",
      " ['__class__', '__delattr__', '__dict__', '__dir__', '__doc__', '__eq__', '__format__', '__ge__', '__getattribute__', '__gt__', '__hash__', '__init__', '__init_subclass__', '__le__', '__lt__', '__module__', '__ne__', '__new__', '__reduce__', '__reduce_ex__', '__repr__', '__setattr__', '__sizeof__', '__str__', '__subclasshook__', '__weakref__', 'printall', 'registory']\n",
      "--------MetaSon2--------\n",
      " ['__class__', '__delattr__', '__dict__', '__dir__', '__doc__', '__eq__', '__format__', '__ge__', '__getattribute__', '__gt__', '__hash__', '__init__', '__init_subclass__', '__le__', '__lt__', '__module__', '__ne__', '__new__', '__reduce__', '__reduce_ex__', '__repr__', '__setattr__', '__sizeof__', '__str__', '__subclasshook__', '__weakref__', 'printall', 'registory']\n",
      "--------SonSon1--------\n",
      " ['__class__', '__delattr__', '__dict__', '__dir__', '__doc__', '__eq__', '__format__', '__ge__', '__getattribute__', '__gt__', '__hash__', '__init__', '__init_subclass__', '__le__', '__lt__', '__module__', '__ne__', '__new__', '__reduce__', '__reduce_ex__', '__repr__', '__setattr__', '__sizeof__', '__str__', '__subclasshook__', '__weakref__', 'printall', 'registory']\n",
      "--------SonSon2--------\n",
      " ['__class__', '__delattr__', '__dict__', '__dir__', '__doc__', '__eq__', '__format__', '__ge__', '__getattribute__', '__gt__', '__hash__', '__init__', '__init_subclass__', '__le__', '__lt__', '__module__', '__ne__', '__new__', '__reduce__', '__reduce_ex__', '__repr__', '__setattr__', '__sizeof__', '__str__', '__subclasshook__', '__weakref__', 'printall', 'registory']\n",
      "--------SonSonSon3--------\n",
      " ['__class__', '__delattr__', '__dict__', '__dir__', '__doc__', '__eq__', '__format__', '__ge__', '__getattribute__', '__gt__', '__hash__', '__init__', '__init_subclass__', '__le__', '__lt__', '__module__', '__ne__', '__new__', '__reduce__', '__reduce_ex__', '__repr__', '__setattr__', '__sizeof__', '__str__', '__subclasshook__', '__weakref__', 'registory']\n"
     ]
    }
   ],
   "source": [
    "print('--------Meta--------\\n',dir(Meta))\n",
    "print('--------MetaSon1--------\\n',dir(MetaSon1))\n",
    "print('--------MetaSon2--------\\n',dir(MetaSon2))\n",
    "print('--------SonSon1--------\\n',dir(SonSon1))\n",
    "print('--------SonSon2--------\\n',dir(SonSon2))\n",
    "print('--------SonSonSon3--------\\n',dir(SonSonSon3))"
   ]
  },
  {
   "cell_type": "code",
   "execution_count": 137,
   "metadata": {},
   "outputs": [
    {
     "name": "stdout",
     "output_type": "stream",
     "text": [
      "[<class '__main__.MetaSon1'>, <class '__main__.MetaSon2'>, <class '__main__.SonSon1'>, <class '__main__.SonSon2'>, <class '__main__.SonSon3'>, <class '__main__.SonSonSon1'>]\n",
      "{'sonson1': <class '__main__.SonSon1'>, 'sonson3': <class '__main__.SonSon3'>, 'sonsonson1': <class '__main__.SonSonSon1'>}\n",
      "{'sonson2': <class '__main__.SonSon2'>}\n",
      "{'sonson1': <class '__main__.SonSon1'>, 'sonson3': <class '__main__.SonSon3'>, 'sonsonson1': <class '__main__.SonSonSon1'>}\n",
      "{'sonson2': <class '__main__.SonSon2'>}\n",
      "{'sonson1': <class '__main__.SonSon1'>, 'sonson3': <class '__main__.SonSon3'>, 'sonsonson1': <class '__main__.SonSonSon1'>}\n"
     ]
    }
   ],
   "source": [
    "print(Meta.record_cls)\n",
    "print(MetaSon1.registory)\n",
    "print(MetaSon2.registory)\n",
    "print(SonSon1.registory)\n",
    "print(SonSon2.registory)\n",
    "print(SonSonSon1.registory)"
   ]
  },
  {
   "cell_type": "code",
   "execution_count": 138,
   "metadata": {},
   "outputs": [
    {
     "name": "stdout",
     "output_type": "stream",
     "text": [
      "<__main__.SonSon1 object at 0x000001F8FED82630>\n",
      "{'age': 111, 'height': 4, 'iq': 22, 'printall': <bound method MetaSon1.printall of <__main__.SonSon1 object at 0x000001F8FED82630>>, 'registory': {'sonson1': <class '__main__.SonSon1'>, 'sonson3': <class '__main__.SonSon3'>, 'sonsonson1': <class '__main__.SonSonSon1'>}, 'weight': 99}\n",
      "--------------------\n",
      "<__main__.SonSon2 object at 0x000001F8FED82B00>\n",
      "{'printall': <bound method MetaSon2.printall of <__main__.SonSon2 object at 0x000001F8FED82B00>>, 'registory': {'sonson2': <class '__main__.SonSon2'>}, 'slogon': 'rubbish', 'task': 'worker'}\n",
      "--------------------\n",
      "<__main__.MetaSon2 object at 0x000001F8FED826A0>\n",
      "{'printall': <bound method MetaSon2.printall of <__main__.MetaSon2 object at 0x000001F8FED826A0>>, 'registory': {'sonson2': <class '__main__.SonSon2'>}, 'slogon': 'stupid'}\n"
     ]
    }
   ],
   "source": [
    "# \n",
    "sonson1 = MetaSon1.create('SonSon1',iq=22,age=111,height=4)\n",
    "print(sonson1)\n",
    "sonson1.printall()\n",
    "print('-'*20)\n",
    "\n",
    "sonson2 = MetaSon2.create('SonSon2',task='worker',slogon='rubbish')\n",
    "print(sonson2)\n",
    "sonson2.printall()\n",
    "print('-'*20)\n",
    "\n",
    "metason2 = MetaSon2()\n",
    "print(metason2)\n",
    "metason2.printall()"
   ]
  },
  {
   "cell_type": "markdown",
   "metadata": {},
   "source": [
    "以上类使用__call__方法建立孙子类"
   ]
  },
  {
   "cell_type": "code",
   "execution_count": 133,
   "metadata": {},
   "outputs": [],
   "source": [
    "# 注册所有子类\n",
    "class BMeta(type):           \n",
    "    record_cls = []\n",
    "\n",
    "    def __new__(cls, name, bases, attrs):\n",
    "        new_cls = type.__new__(cls, name, bases, attrs)\n",
    "        Meta.record_cls.append(new_cls)\n",
    "        return new_cls\n",
    "    \n",
    "    def __init__(cls, name, bases, namespace, **kwargs):\n",
    "        super().__init__(name, bases, namespace, **kwargs)\n",
    "        if not hasattr(cls, 'registory'):  # build only in the first subclass\n",
    "            # this is the base class\n",
    "            cls.registory = {}\n",
    "        else:\n",
    "            # this is the subclass\n",
    "            cls.registory[name.lower()] = cls\n",
    "    \n",
    "    def __call__(cls,class_name, *args, **kwargs):\n",
    "        return cls.registory[class_name.lower()](class_name, *args, **kwargs)  # 此处死递归调用__call__，谁都不build子类，踢皮球\n",
    "    \n",
    "class BMetaSon1(object,metaclass=BMeta):\n",
    "    def __init__(self,age=12, height=166, weight=99):\n",
    "        self.age = age\n",
    "        self.height = height\n",
    "        self.weight = weight\n",
    "    def printall(self):\n",
    "        lst = dir(self)\n",
    "        tmp = {key:getattr(self,key) for key in lst if '_' not in key}\n",
    "        print(tmp)\n",
    "    pass\n",
    "\n",
    "class BMetaSon2(object,metaclass=BMeta):\n",
    "    def __init__(self,slogon='stupid'):\n",
    "        self.slogon = slogon\n",
    "    def printall(self):\n",
    "        lst = dir(self)\n",
    "        tmp = {key:getattr(self,key) for key in lst if '_' not in key}\n",
    "        print(tmp)\n",
    "    \n",
    "    pass\n",
    "\n",
    "class BSonSon1(BMetaSon1):\n",
    "    def __init__(self,iq=100,**kwargs):\n",
    "        super(BSonSon1, self).__init__(**kwargs)\n",
    "        self.iq = iq\n",
    "    pass\n",
    "\n",
    "class BSonSon2(BMetaSon2):\n",
    "    def __init__(self,task=100,**kwargs):\n",
    "        super(BSonSon2, self).__init__(**kwargs)\n",
    "        self.task = task\n",
    "    pass\n",
    "\n",
    "class BSonSon3(BMetaSon1):\n",
    "    pass\n",
    "\n",
    "class BSonSonSon1(BMetaSon1):\n",
    "    pass"
   ]
  },
  {
   "cell_type": "code",
   "execution_count": 134,
   "metadata": {},
   "outputs": [
    {
     "ename": "RecursionError",
     "evalue": "maximum recursion depth exceeded while calling a Python object",
     "output_type": "error",
     "traceback": [
      "\u001b[1;31m---------------------------------------------------------------------------\u001b[0m",
      "\u001b[1;31mRecursionError\u001b[0m                            Traceback (most recent call last)",
      "\u001b[1;32m<ipython-input-134-01855a21cb4c>\u001b[0m in \u001b[0;36m<module>\u001b[1;34m()\u001b[0m\n\u001b[0;32m      1\u001b[0m \u001b[1;31m# 用__call__方法，会死递归，因为递归调用__call__建立子类，但是哪个__call__都是调用__call__，都不建类\u001b[0m\u001b[1;33m\u001b[0m\u001b[1;33m\u001b[0m\u001b[0m\n\u001b[0;32m      2\u001b[0m \u001b[1;33m\u001b[0m\u001b[0m\n\u001b[1;32m----> 3\u001b[1;33m \u001b[0mBsonson1\u001b[0m \u001b[1;33m=\u001b[0m \u001b[0mBMetaSon1\u001b[0m\u001b[1;33m(\u001b[0m\u001b[0mclass_name\u001b[0m\u001b[1;33m=\u001b[0m\u001b[1;34m'BSonSon1'\u001b[0m\u001b[1;33m,\u001b[0m\u001b[0miq\u001b[0m\u001b[1;33m=\u001b[0m\u001b[1;36m22\u001b[0m\u001b[1;33m,\u001b[0m\u001b[0mage\u001b[0m\u001b[1;33m=\u001b[0m\u001b[1;36m111\u001b[0m\u001b[1;33m,\u001b[0m\u001b[0mheight\u001b[0m\u001b[1;33m=\u001b[0m\u001b[1;36m4\u001b[0m\u001b[1;33m)\u001b[0m\u001b[1;33m\u001b[0m\u001b[0m\n\u001b[0m\u001b[0;32m      4\u001b[0m \u001b[0mprint\u001b[0m\u001b[1;33m(\u001b[0m\u001b[0mBsonson1\u001b[0m\u001b[1;33m)\u001b[0m\u001b[1;33m\u001b[0m\u001b[0m\n\u001b[0;32m      5\u001b[0m \u001b[0mBsonson1\u001b[0m\u001b[1;33m.\u001b[0m\u001b[0mprintall\u001b[0m\u001b[1;33m(\u001b[0m\u001b[1;33m)\u001b[0m\u001b[1;33m\u001b[0m\u001b[0m\n",
      "\u001b[1;32m<ipython-input-133-9a501a155659>\u001b[0m in \u001b[0;36m__call__\u001b[1;34m(cls, class_name, *args, **kwargs)\u001b[0m\n\u001b[0;32m     18\u001b[0m \u001b[1;33m\u001b[0m\u001b[0m\n\u001b[0;32m     19\u001b[0m     \u001b[1;32mdef\u001b[0m \u001b[0m__call__\u001b[0m\u001b[1;33m(\u001b[0m\u001b[0mcls\u001b[0m\u001b[1;33m,\u001b[0m\u001b[0mclass_name\u001b[0m\u001b[1;33m,\u001b[0m \u001b[1;33m*\u001b[0m\u001b[0margs\u001b[0m\u001b[1;33m,\u001b[0m \u001b[1;33m**\u001b[0m\u001b[0mkwargs\u001b[0m\u001b[1;33m)\u001b[0m\u001b[1;33m:\u001b[0m\u001b[1;33m\u001b[0m\u001b[0m\n\u001b[1;32m---> 20\u001b[1;33m         \u001b[1;32mreturn\u001b[0m \u001b[0mcls\u001b[0m\u001b[1;33m.\u001b[0m\u001b[0mregistory\u001b[0m\u001b[1;33m[\u001b[0m\u001b[0mclass_name\u001b[0m\u001b[1;33m.\u001b[0m\u001b[0mlower\u001b[0m\u001b[1;33m(\u001b[0m\u001b[1;33m)\u001b[0m\u001b[1;33m]\u001b[0m\u001b[1;33m(\u001b[0m\u001b[0mclass_name\u001b[0m\u001b[1;33m,\u001b[0m \u001b[1;33m*\u001b[0m\u001b[0margs\u001b[0m\u001b[1;33m,\u001b[0m \u001b[1;33m**\u001b[0m\u001b[0mkwargs\u001b[0m\u001b[1;33m)\u001b[0m  \u001b[1;31m# 此处死递归调用__call__，谁都不build子类，踢皮球\u001b[0m\u001b[1;33m\u001b[0m\u001b[0m\n\u001b[0m\u001b[0;32m     21\u001b[0m \u001b[1;33m\u001b[0m\u001b[0m\n\u001b[0;32m     22\u001b[0m \u001b[1;32mclass\u001b[0m \u001b[0mBMetaSon1\u001b[0m\u001b[1;33m(\u001b[0m\u001b[0mobject\u001b[0m\u001b[1;33m,\u001b[0m\u001b[0mmetaclass\u001b[0m\u001b[1;33m=\u001b[0m\u001b[0mBMeta\u001b[0m\u001b[1;33m)\u001b[0m\u001b[1;33m:\u001b[0m\u001b[1;33m\u001b[0m\u001b[0m\n",
      "... last 1 frames repeated, from the frame below ...\n",
      "\u001b[1;32m<ipython-input-133-9a501a155659>\u001b[0m in \u001b[0;36m__call__\u001b[1;34m(cls, class_name, *args, **kwargs)\u001b[0m\n\u001b[0;32m     18\u001b[0m \u001b[1;33m\u001b[0m\u001b[0m\n\u001b[0;32m     19\u001b[0m     \u001b[1;32mdef\u001b[0m \u001b[0m__call__\u001b[0m\u001b[1;33m(\u001b[0m\u001b[0mcls\u001b[0m\u001b[1;33m,\u001b[0m\u001b[0mclass_name\u001b[0m\u001b[1;33m,\u001b[0m \u001b[1;33m*\u001b[0m\u001b[0margs\u001b[0m\u001b[1;33m,\u001b[0m \u001b[1;33m**\u001b[0m\u001b[0mkwargs\u001b[0m\u001b[1;33m)\u001b[0m\u001b[1;33m:\u001b[0m\u001b[1;33m\u001b[0m\u001b[0m\n\u001b[1;32m---> 20\u001b[1;33m         \u001b[1;32mreturn\u001b[0m \u001b[0mcls\u001b[0m\u001b[1;33m.\u001b[0m\u001b[0mregistory\u001b[0m\u001b[1;33m[\u001b[0m\u001b[0mclass_name\u001b[0m\u001b[1;33m.\u001b[0m\u001b[0mlower\u001b[0m\u001b[1;33m(\u001b[0m\u001b[1;33m)\u001b[0m\u001b[1;33m]\u001b[0m\u001b[1;33m(\u001b[0m\u001b[0mclass_name\u001b[0m\u001b[1;33m,\u001b[0m \u001b[1;33m*\u001b[0m\u001b[0margs\u001b[0m\u001b[1;33m,\u001b[0m \u001b[1;33m**\u001b[0m\u001b[0mkwargs\u001b[0m\u001b[1;33m)\u001b[0m  \u001b[1;31m# 此处死递归调用__call__，谁都不build子类，踢皮球\u001b[0m\u001b[1;33m\u001b[0m\u001b[0m\n\u001b[0m\u001b[0;32m     21\u001b[0m \u001b[1;33m\u001b[0m\u001b[0m\n\u001b[0;32m     22\u001b[0m \u001b[1;32mclass\u001b[0m \u001b[0mBMetaSon1\u001b[0m\u001b[1;33m(\u001b[0m\u001b[0mobject\u001b[0m\u001b[1;33m,\u001b[0m\u001b[0mmetaclass\u001b[0m\u001b[1;33m=\u001b[0m\u001b[0mBMeta\u001b[0m\u001b[1;33m)\u001b[0m\u001b[1;33m:\u001b[0m\u001b[1;33m\u001b[0m\u001b[0m\n",
      "\u001b[1;31mRecursionError\u001b[0m: maximum recursion depth exceeded while calling a Python object"
     ]
    }
   ],
   "source": [
    "# 用__call__方法，会死递归，因为递归调用__call__建立子类，但是哪个__call__都是调用__call__，都不建类\n",
    "\n",
    "Bsonson1 = BMetaSon1(class_name='BSonSon1',iq=22,age=111,height=4)\n",
    "print(Bsonson1)\n",
    "Bsonson1.printall()\n",
    "print('-'*20)\n",
    "\n",
    "Bsonson2 = BMetaSon2(class_name='BSonSon2',task='worker',slogon='rubbish')\n",
    "print(Bsonson2)\n",
    "Bsonson2.printall()\n",
    "print('-'*20)\n",
    "\n",
    "Bmetason2 = BMetaSon2()\n",
    "print(Bmetason2)\n",
    "Bmetason2.printall()"
   ]
  },
  {
   "cell_type": "markdown",
   "metadata": {},
   "source": [
    "https://zhuanlan.zhihu.com/p/65214982"
   ]
  },
  {
   "cell_type": "code",
   "execution_count": 27,
   "metadata": {},
   "outputs": [
    {
     "name": "stdout",
     "output_type": "stream",
     "text": [
      "MetaA.__new__\n",
      "MetaA.__init__\n",
      "<__main__.A object at 0x000001F8FED4F748>\n"
     ]
    }
   ],
   "source": [
    "# 请记住，'type'实际上是一个类，就像'str'和'int'一样\n",
    "# 所以，你可以从type继承\n",
    "class MetaA(type):\n",
    "    # __new__ 是在__init__之前被调用的特殊方法\n",
    "    # __new__是用来创建对象并返回之的方法\n",
    "    # 而__init__只是用来将传入的参数初始化给对象\n",
    "    # 你很少用到__new__，除非你希望能够控制对象的创建\n",
    "    # 这里，创建的对象是类，我们希望能够自定义它，所以我们这里改写__new__\n",
    "    # 如果你希望的话，你也可以在__init__中做些事情\n",
    "    # 还有一些高级的用法会涉及到改写__call__特殊方法，但是我们这里不用\n",
    "    def __new__(cls, name, bases, dct):\n",
    "        print('MetaA.__new__')\n",
    "        # 这种方式不会调用__init__方法\n",
    "        # return type(name, bases, dct)\n",
    "        # 这种方式会调用__init__\n",
    "        return type.__new__(cls, name, bases, dct)\n",
    "\n",
    "    def __init__(cls, name, bases, dct):\n",
    "        print('MetaA.__init__')\n",
    "\n",
    "\n",
    "class A(object, metaclass=MetaA):\n",
    "    #def __init__(self,name='default_A'):\n",
    "        print('in A, name is {}'.format(name))\n",
    "    def pr(self):\n",
    "        print('Are you kidding me?')\n",
    "    pass\n",
    "\n",
    "print(A())"
   ]
  },
  {
   "cell_type": "code",
   "execution_count": 28,
   "metadata": {},
   "outputs": [],
   "source": [
    "class ModelMeta(type):\n",
    "    def __init__(self,*args, **kwargs):\n",
    "        print(\"hello\")"
   ]
  },
  {
   "cell_type": "code",
   "execution_count": 29,
   "metadata": {},
   "outputs": [
    {
     "name": "stdout",
     "output_type": "stream",
     "text": [
      "hello\n"
     ]
    }
   ],
   "source": [
    "class ModuleClass1(object,metaclass=ModelMeta):\n",
    "    def __init__(self):\n",
    "        print('This is ModuleClass1.')"
   ]
  },
  {
   "cell_type": "code",
   "execution_count": 31,
   "metadata": {},
   "outputs": [
    {
     "name": "stdout",
     "output_type": "stream",
     "text": [
      "hello\n",
      "None\n"
     ]
    }
   ],
   "source": [
    "class ModelMeta(type):\n",
    "    def __call__(self, *args, **kwargs):\n",
    "        print(\"hello\")\n",
    "\n",
    "class Model(object, metaclass=ModelMeta):\n",
    "    pass\n",
    "\n",
    "m = Model()\n",
    "print(m)"
   ]
  },
  {
   "cell_type": "markdown",
   "metadata": {},
   "source": [
    "python 中类的本质也是对象\n",
    "\n",
    "创建类也类似一个对象的创建过程\n",
    "\n",
    "元类控制类的创建\n",
    "\n",
    "指定Base的元类， Base的所有子类在创建时都会进入元类中的_new_方法，在此方法中进行记录"
   ]
  },
  {
   "cell_type": "code",
   "execution_count": 117,
   "metadata": {},
   "outputs": [],
   "source": [
    "# 使用 python 元类解决这个问题\n",
    "class BaseMetaClass(type):\n",
    "    record_cls = []\n",
    "\n",
    "    def __iter__(self):\n",
    "        for item in BaseMetaClass.record_cls:\n",
    "            yield item\n",
    "\n",
    "    # 控制类的打印名称\n",
    "    def __repr__(cls):\n",
    "        return cls.__name__\n",
    "\n",
    "    def __new__(cls, name, bases, attrs):\n",
    "        new_cls = type.__new__(cls, name, bases, attrs)\n",
    "        #if name != 'Base':\n",
    "        BaseMetaClass.record_cls.append(new_cls)\n",
    "        return new_cls\n",
    "\n",
    "\n",
    "class Base(object, metaclass=BaseMetaClass):\n",
    "    def __init__(self):\n",
    "        pass\n",
    "\n",
    "    def __iter__(self):\n",
    "        yield BaseMetaClass"
   ]
  },
  {
   "cell_type": "code",
   "execution_count": 113,
   "metadata": {},
   "outputs": [],
   "source": [
    "base = Base()"
   ]
  },
  {
   "cell_type": "code",
   "execution_count": 118,
   "metadata": {},
   "outputs": [
    {
     "data": {
      "text/plain": [
       "['__abstractmethods__',\n",
       " '__base__',\n",
       " '__bases__',\n",
       " '__basicsize__',\n",
       " '__call__',\n",
       " '__class__',\n",
       " '__delattr__',\n",
       " '__dict__',\n",
       " '__dictoffset__',\n",
       " '__dir__',\n",
       " '__doc__',\n",
       " '__eq__',\n",
       " '__flags__',\n",
       " '__format__',\n",
       " '__ge__',\n",
       " '__getattribute__',\n",
       " '__gt__',\n",
       " '__hash__',\n",
       " '__init__',\n",
       " '__init_subclass__',\n",
       " '__instancecheck__',\n",
       " '__itemsize__',\n",
       " '__iter__',\n",
       " '__le__',\n",
       " '__lt__',\n",
       " '__module__',\n",
       " '__mro__',\n",
       " '__name__',\n",
       " '__ne__',\n",
       " '__new__',\n",
       " '__prepare__',\n",
       " '__qualname__',\n",
       " '__reduce__',\n",
       " '__reduce_ex__',\n",
       " '__repr__',\n",
       " '__setattr__',\n",
       " '__sizeof__',\n",
       " '__str__',\n",
       " '__subclasscheck__',\n",
       " '__subclasses__',\n",
       " '__subclasshook__',\n",
       " '__text_signature__',\n",
       " '__weakrefoffset__',\n",
       " 'mro',\n",
       " 'record_cls']"
      ]
     },
     "execution_count": 118,
     "metadata": {},
     "output_type": "execute_result"
    }
   ],
   "source": [
    "dir(BaseMetaClass)"
   ]
  },
  {
   "cell_type": "code",
   "execution_count": 119,
   "metadata": {},
   "outputs": [
    {
     "data": {
      "text/plain": [
       "[Base]"
      ]
     },
     "execution_count": 119,
     "metadata": {},
     "output_type": "execute_result"
    }
   ],
   "source": [
    "BaseMetaClass.record_cls"
   ]
  },
  {
   "cell_type": "markdown",
   "metadata": {},
   "source": [
    "https://www.jianshu.com/p/2e2ee316cfd0\n",
    "\n",
    "讲解metaclass的blog"
   ]
  },
  {
   "cell_type": "code",
   "execution_count": null,
   "metadata": {},
   "outputs": [],
   "source": []
  }
 ],
 "metadata": {
  "kernelspec": {
   "display_name": "Python 3",
   "language": "python",
   "name": "python3"
  },
  "language_info": {
   "codemirror_mode": {
    "name": "ipython",
    "version": 3
   },
   "file_extension": ".py",
   "mimetype": "text/x-python",
   "name": "python",
   "nbconvert_exporter": "python",
   "pygments_lexer": "ipython3",
   "version": "3.6.10"
  }
 },
 "nbformat": 4,
 "nbformat_minor": 2
}
