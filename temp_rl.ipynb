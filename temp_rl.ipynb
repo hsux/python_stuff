{
 "cells": [
  {
   "cell_type": "code",
   "execution_count": 7,
   "metadata": {
    "collapsed": true
   },
   "outputs": [],
   "source": [
    "import tensorflow as tf\n",
    "import numpy as np\n",
    "import random"
   ]
  },
  {
   "cell_type": "code",
   "execution_count": 2,
   "metadata": {
    "collapsed": true
   },
   "outputs": [],
   "source": [
    "GEN_RANK_NUM = 4+1\n",
    "LENGTH = 7\n",
    "batch_size = 3\n",
    "K = 2"
   ]
  },
  {
   "cell_type": "code",
   "execution_count": 3,
   "metadata": {
    "collapsed": false
   },
   "outputs": [
    {
     "data": {
      "text/plain": [
       "array([[4.17022005e-01, 7.20324493e-01, 1.14374817e-04, 3.02332573e-01,\n",
       "        1.46755891e-01],\n",
       "       [9.23385948e-02, 1.86260211e-01, 3.45560727e-01, 3.96767474e-01,\n",
       "        5.38816734e-01],\n",
       "       [4.19194514e-01, 6.85219500e-01, 2.04452250e-01, 8.78117436e-01,\n",
       "        2.73875932e-02],\n",
       "       [6.70467510e-01, 4.17304802e-01, 5.58689828e-01, 1.40386939e-01,\n",
       "        1.98101489e-01],\n",
       "       [8.00744569e-01, 9.68261576e-01, 3.13424178e-01, 6.92322616e-01,\n",
       "        8.76389152e-01],\n",
       "       [8.94606664e-01, 8.50442114e-02, 3.90547832e-02, 1.69830420e-01,\n",
       "        8.78142503e-01],\n",
       "       [9.83468338e-02, 4.21107625e-01, 9.57889530e-01, 5.33165285e-01,\n",
       "        6.91877114e-01]])"
      ]
     },
     "execution_count": 3,
     "metadata": {},
     "output_type": "execute_result"
    }
   ],
   "source": [
    "np.random.seed(1)\n",
    "a = np.random.random_sample((batch_size, LENGTH,GEN_RANK_NUM))\n",
    "#a = np.reshape(a,[3,70*5])\n",
    "tensor_a = tf.convert_to_tensor(a)\n",
    "a[0]"
   ]
  },
  {
   "cell_type": "code",
   "execution_count": 4,
   "metadata": {
    "collapsed": true
   },
   "outputs": [],
   "source": [
    "check = []\n",
    "check_tb = []"
   ]
  },
  {
   "cell_type": "code",
   "execution_count": 5,
   "metadata": {
    "collapsed": true
   },
   "outputs": [],
   "source": [
    "def set_value(matrix, x, y, col_len=4,val=0.):\n",
    "    # 提取出要更新的行\n",
    "    row = tf.gather(matrix, x)\n",
    "    # 构造这行的新数据\n",
    "    new_row = tf.concat([row[:y], [val]*(col_len-y)], axis=0)\n",
    "    # 使用 tf.scatter_update 方法进正行替换\n",
    "    return tf.scatter_update(matrix, x, new_row)  # matrix必须是var"
   ]
  },
  {
   "cell_type": "code",
   "execution_count": 6,
   "metadata": {
    "collapsed": false
   },
   "outputs": [],
   "source": [
    "def set_col(matrix,new_col,col):\n",
    "    #return tf.transpose(tf.scatter_update(tf.transpose(matrix),col,tf.Variable(new_col)))  # \n",
    "    print('matrix[:,:col]',matrix[:,:col])\n",
    "    print('tf.reshape(new_col,[LENGTH,1])',tf.reshape(new_col,[LENGTH,1]))\n",
    "    print('matrix[:,col+1:]]',matrix[:,col+1:])\n",
    "    return tf.concat([matrix[:,:col],tf.reshape(new_col,[LENGTH,1]),matrix[:,col+1:]],1)  # 导致下一步报错\n",
    "    #return tf.assign(tf.slice(matrix,[0,col],[LENGTH,1]),new_col)  #ValueError: Sliced assignment is only supported for variables\n",
    "   \n",
    "    "
   ]
  },
  {
   "cell_type": "code",
   "execution_count": 64,
   "metadata": {
    "collapsed": false
   },
   "outputs": [],
   "source": [
    "def tf_sample_one(table):\n",
    "    np.random.seed(6)\n",
    "    random_shifts = np.random.random([LENGTH,GEN_RANK_NUM-1])  # [70,4]\n",
    "    #print('------------\\n',random_shifts,'-----------\\n')\n",
    "    random_shifts /= random_shifts.sum(axis = 0)[np.newaxis,:]\n",
    "    result = []\n",
    "    print('sample_one,table_shape',table)  # [7,4]\n",
    "    for m in range(GEN_RANK_NUM-1):  # 4个位置\n",
    "        table_m = table[:,m]  # [70,1]\n",
    "        #check.append((tf.reduce_sum(table_m),table_m))\n",
    "        table_m /= tf.reduce_sum(table_m)  # 这里要控制执行顺序，先计算这里，再置零\n",
    "        shifted_probabilities = random_shifts[:,m] - table_m\n",
    "        with tf.control_dependencies([table_m,shifted_probabilities]):\n",
    "            #check.append((table_m,shifted_probabilities))\n",
    "            l = tf.argmin(shifted_probabilities)  # 找出最小的index\n",
    "            table = set_value(table,x=l,y=m,col_len=GEN_RANK_NUM-1,val=0.)\n",
    "            result.append(l)\n",
    "\n",
    "    #check_tb.append(table)\n",
    "    return tf.reshape(result,[1,len(result)])"
   ]
  },
  {
   "cell_type": "code",
   "execution_count": 65,
   "metadata": {
    "collapsed": false
   },
   "outputs": [],
   "source": [
    "def tf_check_repeat(checked, cand_set):\n",
    "    flag = tf.convert_to_tensor(False)\n",
    "    \n",
    "    for cand_tensor in cand_set:\n",
    "        print('[@]tmp:',checked)\n",
    "        print('[@]cand_tensor:',cand_tensor)\n",
    "        print('[@] bool:',tf.equal(checked,cand_tensor))\n",
    "        eq = tf.equal(checked,cand_tensor)\n",
    "        cond = tf.equal(tf.reduce_sum(tf.cast(eq,tf.int32)),GEN_RANK_NUM-1)\n",
    "        check.append((cond,eq,tf.convert_to_tensor(flag),tf.equal(checked,cand_tensor)))\n",
    "        flag = tf.cond(cond, lambda: tf.cast(True, tf.bool), lambda: flag)\n",
    "    return flag  # 但凡有一个重复则true"
   ]
  },
  {
   "cell_type": "code",
   "execution_count": 66,
   "metadata": {
    "collapsed": false
   },
   "outputs": [],
   "source": [
    "def tf_sample_and_test(prob_table, temperature, k=K):\n",
    "    prob_table = tf.convert_to_tensor(prob_table)\n",
    "    if len(prob_table.shape) == 3:\n",
    "        prob_table = prob_table[0:,0:,:-1]\n",
    "    elif len(prob_table.shape) == 2:\n",
    "        prob_table = np.reshape(prob_table, (-1, LENGTH, GEN_RANK_NUM))[:,:,0:-1]   \n",
    "    res = []\n",
    "    prob_table = tf.math.exp(prob_table * temperature)  # [bs, LENGTH, GEN_RANK_NUM-1]  [3,70,4]\n",
    "    \n",
    "    # 从每条候选概率[70,4]中抽样20个即[20,4]\n",
    "    for i in range(prob_table.get_shape().as_list()[0]):  # bs\n",
    "        print('exam:',i)\n",
    "        sample_set = []  # 对于每个样本生成k个list\n",
    "        print('k={}'.format(k))\n",
    "        num = k\n",
    "        cnt = 0\n",
    "        while num > 0:  # 抽取20个sku的位置概率\n",
    "            cnt += 1\n",
    "            print('count:',cnt)\n",
    "            table  = tf.Variable(prob_table[i])  # 每次都从原始的数据开始\n",
    "            #check_tb.append(table)\n",
    "            print('table:',table)\n",
    "            tmp = tf_sample_one(table)  # [70,4] -> [1,4]\n",
    "            if len(sample_set)==0:\n",
    "                sample_set_concat = tmp\n",
    "                sample_set.append(tmp)\n",
    "                num -= 1\n",
    "                print('第一次加入sample-set list')\n",
    "            else:\n",
    "                print('进入非第一次')\n",
    "                tmp_len = len(sample_set)#sample_set_concat.get_shape().as_list()[0]\n",
    "                sample_set_concat = tf.cond(tf_check_repeat(tmp,sample_set), \n",
    "                        true_fn=lambda: sample_set_concat, \n",
    "                        false_fn=lambda: tf.concat([sample_set_concat,tmp],0))  \n",
    "                if sample_set_concat.get_shape().as_list()[0]!=tmp_len:\n",
    "                    sample_set.append(tmp)\n",
    "                    num -= 1\n",
    "                    print('不通的list入栈')\n",
    "                #sample_set.append(tmp)\n",
    "                print('[!] tmp:',tmp)\n",
    "                print('[!] sample_set_concat:',sample_set_concat)\n",
    "                check.append((tmp,sample_set_concat))\n",
    "            if sample_set_concat.get_shape().as_list()[0] == k:\n",
    "                break\n",
    "            if cnt > 3:\n",
    "                break\n",
    "        res.append(sample_set_concat)\n",
    "    print('[#] finish',res)\n",
    "    res = tf.stack(res,0)\n",
    "    return res  # [bs, K, GEN_RANK_NUM-1]"
   ]
  },
  {
   "cell_type": "code",
   "execution_count": 67,
   "metadata": {
    "collapsed": true
   },
   "outputs": [],
   "source": [
    "check = []\n",
    "check_tb = []"
   ]
  },
  {
   "cell_type": "code",
   "execution_count": 68,
   "metadata": {
    "collapsed": false,
    "scrolled": false
   },
   "outputs": [
    {
     "name": "stdout",
     "output_type": "stream",
     "text": [
      "exam: 0\n",
      "k=2\n",
      "count: 1\n",
      "table: <tf.Variable 'Variable_54:0' shape=(7, 4) dtype=float64_ref>\n",
      "sample_one,table_shape <tf.Variable 'Variable_54:0' shape=(7, 4) dtype=float64_ref>\n",
      "第一次加入sample-set list\n",
      "count: 2\n",
      "table: <tf.Variable 'Variable_55:0' shape=(7, 4) dtype=float64_ref>\n",
      "sample_one,table_shape <tf.Variable 'Variable_55:0' shape=(7, 4) dtype=float64_ref>\n",
      "进入非第一次\n",
      "[@]tmp: Tensor(\"Reshape_55:0\", shape=(1, 4), dtype=int64)\n",
      "[@]cand_tensor: Tensor(\"Reshape_54:0\", shape=(1, 4), dtype=int64)\n",
      "[@] bool: Tensor(\"Equal_204:0\", shape=(1, 4), dtype=bool)\n",
      "不通的list入栈\n",
      "[!] tmp: Tensor(\"Reshape_55:0\", shape=(1, 4), dtype=int64)\n",
      "[!] sample_set_concat: Tensor(\"cond_85/Merge:0\", shape=(?, 4), dtype=int64)\n",
      "exam: 1\n",
      "k=2\n",
      "count: 1\n",
      "table: <tf.Variable 'Variable_56:0' shape=(7, 4) dtype=float64_ref>\n",
      "sample_one,table_shape <tf.Variable 'Variable_56:0' shape=(7, 4) dtype=float64_ref>\n",
      "第一次加入sample-set list\n",
      "count: 2\n",
      "table: <tf.Variable 'Variable_57:0' shape=(7, 4) dtype=float64_ref>\n",
      "sample_one,table_shape <tf.Variable 'Variable_57:0' shape=(7, 4) dtype=float64_ref>\n",
      "进入非第一次\n",
      "[@]tmp: Tensor(\"Reshape_57:0\", shape=(1, 4), dtype=int64)\n",
      "[@]cand_tensor: Tensor(\"Reshape_56:0\", shape=(1, 4), dtype=int64)\n",
      "[@] bool: Tensor(\"Equal_208:0\", shape=(1, 4), dtype=bool)\n",
      "不通的list入栈\n",
      "[!] tmp: Tensor(\"Reshape_57:0\", shape=(1, 4), dtype=int64)\n",
      "[!] sample_set_concat: Tensor(\"cond_87/Merge:0\", shape=(?, 4), dtype=int64)\n",
      "exam: 2\n",
      "k=2\n",
      "count: 1\n",
      "table: <tf.Variable 'Variable_58:0' shape=(7, 4) dtype=float64_ref>\n",
      "sample_one,table_shape <tf.Variable 'Variable_58:0' shape=(7, 4) dtype=float64_ref>\n",
      "第一次加入sample-set list\n",
      "count: 2\n",
      "table: <tf.Variable 'Variable_59:0' shape=(7, 4) dtype=float64_ref>\n",
      "sample_one,table_shape <tf.Variable 'Variable_59:0' shape=(7, 4) dtype=float64_ref>\n",
      "进入非第一次\n",
      "[@]tmp: Tensor(\"Reshape_59:0\", shape=(1, 4), dtype=int64)\n",
      "[@]cand_tensor: Tensor(\"Reshape_58:0\", shape=(1, 4), dtype=int64)\n",
      "[@] bool: Tensor(\"Equal_212:0\", shape=(1, 4), dtype=bool)\n",
      "不通的list入栈\n",
      "[!] tmp: Tensor(\"Reshape_59:0\", shape=(1, 4), dtype=int64)\n",
      "[!] sample_set_concat: Tensor(\"cond_89/Merge:0\", shape=(?, 4), dtype=int64)\n",
      "[#] finish [<tf.Tensor 'cond_85/Merge:0' shape=(?, 4) dtype=int64>, <tf.Tensor 'cond_87/Merge:0' shape=(?, 4) dtype=int64>, <tf.Tensor 'cond_89/Merge:0' shape=(?, 4) dtype=int64>]\n"
     ]
    },
    {
     "data": {
      "text/plain": [
       "<tf.Tensor 'stack_3:0' shape=(3, ?, 4) dtype=int64>"
      ]
     },
     "execution_count": 68,
     "metadata": {},
     "output_type": "execute_result"
    }
   ],
   "source": [
    "\n",
    "tf_k_list = tf_sample_and_test(a, 0.4)\n",
    "tf_k_list"
   ]
  },
  {
   "cell_type": "code",
   "execution_count": 69,
   "metadata": {
    "collapsed": true
   },
   "outputs": [],
   "source": [
    "sess = tf.Session()\n",
    "init_op = tf.global_variables_initializer()\n",
    "sess.run(init_op)"
   ]
  },
  {
   "cell_type": "code",
   "execution_count": 70,
   "metadata": {
    "collapsed": false,
    "scrolled": false
   },
   "outputs": [],
   "source": [
    "k_list,check=sess.run([tf_k_list,check])"
   ]
  },
  {
   "cell_type": "code",
   "execution_count": 71,
   "metadata": {
    "collapsed": false,
    "scrolled": false
   },
   "outputs": [
    {
     "data": {
      "text/plain": [
       "array([[[5, 0, 6, 1]],\n",
       "\n",
       "       [[1, 0, 6, 5]],\n",
       "\n",
       "       [[5, 4, 6, 0]]], dtype=int64)"
      ]
     },
     "execution_count": 71,
     "metadata": {},
     "output_type": "execute_result"
    }
   ],
   "source": [
    "k_list"
   ]
  },
  {
   "cell_type": "code",
   "execution_count": 54,
   "metadata": {
    "collapsed": false
   },
   "outputs": [
    {
     "data": {
      "text/plain": [
       "(3, 2, 4)"
      ]
     },
     "execution_count": 54,
     "metadata": {},
     "output_type": "execute_result"
    }
   ],
   "source": [
    "k_list.shape"
   ]
  },
  {
   "cell_type": "code",
   "execution_count": 55,
   "metadata": {
    "collapsed": false,
    "scrolled": false
   },
   "outputs": [
    {
     "data": {
      "text/plain": [
       "[(False,\n",
       "  array([[ True,  True, False, False]]),\n",
       "  False,\n",
       "  array([[ True,  True, False, False]])),\n",
       " (array([[5, 1, 3, 0]], dtype=int64), array([[5, 1, 0, 2],\n",
       "         [5, 1, 3, 0]], dtype=int64)),\n",
       " (False,\n",
       "  array([[False, False, False, False]]),\n",
       "  False,\n",
       "  array([[False, False, False, False]])),\n",
       " (array([[2, 4, 1, 5]], dtype=int64), array([[4, 3, 6, 1],\n",
       "         [2, 4, 1, 5]], dtype=int64)),\n",
       " (False,\n",
       "  array([[False, False, False, False]]),\n",
       "  False,\n",
       "  array([[False, False, False, False]])),\n",
       " (array([[4, 2, 6, 0]], dtype=int64), array([[0, 6, 3, 1],\n",
       "         [4, 2, 6, 0]], dtype=int64))]"
      ]
     },
     "execution_count": 55,
     "metadata": {},
     "output_type": "execute_result"
    }
   ],
   "source": [
    "check"
   ]
  },
  {
   "cell_type": "code",
   "execution_count": 15,
   "metadata": {
    "collapsed": false,
    "scrolled": true
   },
   "outputs": [
    {
     "data": {
      "text/plain": [
       "[<tf.Tensor 'ScatterUpdate_3:0' shape=(7, 4) dtype=float64_ref>,\n",
       " <tf.Tensor 'ScatterUpdate_7:0' shape=(7, 4) dtype=float64_ref>,\n",
       " <tf.Tensor 'ScatterUpdate_11:0' shape=(7, 4) dtype=float64_ref>,\n",
       " <tf.Tensor 'ScatterUpdate_15:0' shape=(7, 4) dtype=float64_ref>,\n",
       " <tf.Tensor 'ScatterUpdate_19:0' shape=(7, 4) dtype=float64_ref>,\n",
       " <tf.Tensor 'ScatterUpdate_23:0' shape=(7, 4) dtype=float64_ref>,\n",
       " <tf.Tensor 'ScatterUpdate_27:0' shape=(7, 4) dtype=float64_ref>,\n",
       " <tf.Tensor 'ScatterUpdate_31:0' shape=(7, 4) dtype=float64_ref>,\n",
       " <tf.Tensor 'ScatterUpdate_35:0' shape=(7, 4) dtype=float64_ref>,\n",
       " <tf.Tensor 'ScatterUpdate_39:0' shape=(7, 4) dtype=float64_ref>,\n",
       " <tf.Tensor 'ScatterUpdate_43:0' shape=(7, 4) dtype=float64_ref>,\n",
       " <tf.Tensor 'ScatterUpdate_47:0' shape=(7, 4) dtype=float64_ref>]"
      ]
     },
     "execution_count": 15,
     "metadata": {},
     "output_type": "execute_result"
    }
   ],
   "source": [
    "check_tb"
   ]
  },
  {
   "cell_type": "code",
   "execution_count": null,
   "metadata": {
    "collapsed": true
   },
   "outputs": [],
   "source": []
  },
  {
   "cell_type": "code",
   "execution_count": null,
   "metadata": {
    "collapsed": true
   },
   "outputs": [],
   "source": []
  }
 ],
 "metadata": {
  "kernelspec": {
   "display_name": "Python 3",
   "language": "python",
   "name": "python3"
  },
  "language_info": {
   "codemirror_mode": {
    "name": "ipython",
    "version": 3
   },
   "file_extension": ".py",
   "mimetype": "text/x-python",
   "name": "python",
   "nbconvert_exporter": "python",
   "pygments_lexer": "ipython3",
   "version": "3.6.0"
  }
 },
 "nbformat": 4,
 "nbformat_minor": 2
}
