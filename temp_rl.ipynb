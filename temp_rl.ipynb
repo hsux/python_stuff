{
 "cells": [
  {
   "cell_type": "code",
   "execution_count": 1,
   "metadata": {},
   "outputs": [],
   "source": [
    "import tensorflow as tf\n",
    "import numpy as np\n",
    "import random"
   ]
  },
  {
   "cell_type": "code",
   "execution_count": 53,
   "metadata": {},
   "outputs": [],
   "source": [
    "GEN_RANK_NUM = 4+1\n",
    "LENGTH = 7\n",
    "batch_size = 3\n",
    "K = 1"
   ]
  },
  {
   "cell_type": "code",
   "execution_count": 68,
   "metadata": {},
   "outputs": [
    {
     "data": {
      "text/plain": [
       "array([[4.17022005e-01, 7.20324493e-01, 1.14374817e-04, 3.02332573e-01,\n",
       "        1.46755891e-01],\n",
       "       [9.23385948e-02, 1.86260211e-01, 3.45560727e-01, 3.96767474e-01,\n",
       "        5.38816734e-01],\n",
       "       [4.19194514e-01, 6.85219500e-01, 2.04452250e-01, 8.78117436e-01,\n",
       "        2.73875932e-02],\n",
       "       [6.70467510e-01, 4.17304802e-01, 5.58689828e-01, 1.40386939e-01,\n",
       "        1.98101489e-01],\n",
       "       [8.00744569e-01, 9.68261576e-01, 3.13424178e-01, 6.92322616e-01,\n",
       "        8.76389152e-01],\n",
       "       [8.94606664e-01, 8.50442114e-02, 3.90547832e-02, 1.69830420e-01,\n",
       "        8.78142503e-01],\n",
       "       [9.83468338e-02, 4.21107625e-01, 9.57889530e-01, 5.33165285e-01,\n",
       "        6.91877114e-01]])"
      ]
     },
     "execution_count": 68,
     "metadata": {},
     "output_type": "execute_result"
    }
   ],
   "source": [
    "np.random.seed(1)\n",
    "a = np.random.random_sample((batch_size, LENGTH,GEN_RANK_NUM))\n",
    "#a = np.reshape(a,[3,70*5])\n",
    "tensor_a = tf.convert_to_tensor(a)\n",
    "a[0]"
   ]
  },
  {
   "cell_type": "code",
   "execution_count": 69,
   "metadata": {},
   "outputs": [
    {
     "data": {
      "text/plain": [
       "Dimension(3)"
      ]
     },
     "execution_count": 69,
     "metadata": {},
     "output_type": "execute_result"
    }
   ],
   "source": [
    "tensor_a.shape[0]"
   ]
  },
  {
   "cell_type": "code",
   "execution_count": 70,
   "metadata": {},
   "outputs": [
    {
     "data": {
      "text/plain": [
       "<tf.Tensor 'strided_slice_25:0' shape=() dtype=int32>"
      ]
     },
     "execution_count": 70,
     "metadata": {},
     "output_type": "execute_result"
    }
   ],
   "source": [
    "tf.shape(tensor_a)[0]"
   ]
  },
  {
   "cell_type": "code",
   "execution_count": 71,
   "metadata": {},
   "outputs": [],
   "source": [
    "check = []\n",
    "check_tb = []"
   ]
  },
  {
   "cell_type": "code",
   "execution_count": 72,
   "metadata": {},
   "outputs": [],
   "source": [
    "def set_value(matrix, x, y, col_len=4,val=0.):\n",
    "    # 提取出要更新的行\n",
    "    row = tf.gather(matrix, x)\n",
    "    # 构造这行的新数据\n",
    "    new_row = tf.concat([row[:y], [val]*(col_len-y)], axis=0)\n",
    "    # 使用 tf.scatter_update 方法进正行替换\n",
    "    return tf.scatter_update(matrix, x, new_row)  # matrix必须是var"
   ]
  },
  {
   "cell_type": "code",
   "execution_count": 73,
   "metadata": {},
   "outputs": [],
   "source": [
    "def set_col(matrix,new_col,col):\n",
    "    #return tf.transpose(tf.scatter_update(tf.transpose(matrix),col,tf.Variable(new_col)))  # \n",
    "    print('matrix[:,:col]',matrix[:,:col])\n",
    "    print('tf.reshape(new_col,[LENGTH,1])',tf.reshape(new_col,[LENGTH,1]))\n",
    "    print('matrix[:,col+1:]]',matrix[:,col+1:])\n",
    "    return tf.concat([matrix[:,:col],tf.reshape(new_col,[LENGTH,1]),matrix[:,col+1:]],1)  # 导致下一步报错\n",
    "    #return tf.assign(tf.slice(matrix,[0,col],[LENGTH,1]),new_col)  #ValueError: Sliced assignment is only supported for variables\n",
    "   \n",
    "    "
   ]
  },
  {
   "cell_type": "code",
   "execution_count": 75,
   "metadata": {},
   "outputs": [],
   "source": [
    "def tf_check_repeat(checked, cand_set):\n",
    "    flag = tf.convert_to_tensor(False)\n",
    "    \n",
    "    for cand_tensor in cand_set:\n",
    "        eq = tf.equal(checked,cand_tensor)\n",
    "        cond = tf.equal(tf.reduce_sum(tf.cast(eq,tf.int32)),GEN_RANK_NUM-1)\n",
    "        check.append((cond,eq,tf.convert_to_tensor(flag),tf.equal(checked,cand_tensor)))\n",
    "        flag = tf.cond(cond, lambda: tf.cast(True, tf.bool), lambda: flag)\n",
    "    return flag  # 但凡有一个重复则true"
   ]
  },
  {
   "cell_type": "code",
   "execution_count": null,
   "metadata": {},
   "outputs": [],
   "source": []
  },
  {
   "cell_type": "code",
   "execution_count": 76,
   "metadata": {},
   "outputs": [],
   "source": [
    "def tf_sample_and_test(prob_table, temperature, k=K):\n",
    "    prob_table = tf.convert_to_tensor(prob_table)\n",
    "    if len(prob_table.shape) == 3:\n",
    "        prob_table = prob_table[0:,0:,:-1]\n",
    "    elif len(prob_table.shape) == 2:\n",
    "        prob_table = np.reshape(prob_table, (-1, LENGTH, GEN_RANK_NUM))[:,:,0:-1]   \n",
    "\n",
    "    prob_table = tf.math.exp(prob_table * temperature)  # [bs, LENGTH, GEN_RANK_NUM-1]  [3,70,4]\n",
    "    \n",
    "    # 从每条候选概率[70,4]中抽样20个即[20,4]\n",
    "    i = tf.constant(0,name='cons_i')\n",
    "    prob_table_frame = tf.Variable(prob_table[0],name='prob_frame')\n",
    "    sample_res = tf.Variable([],name='sample_res',dtype=tf.int64)\n",
    "    def condition(i, prob_table,_):\n",
    "        return i<tf.shape(prob_table)[0]\n",
    "    \n",
    "    def loop_body(i, prob_table,res):\n",
    "\n",
    "        sample_set = []\n",
    "        num = k\n",
    "        cnt = 0\n",
    "        while num > 0:  # 抽取20个sku的位置概率,K=2\n",
    "            tf.add_to_collection('i', value=[i])\n",
    "            cnt += 1\n",
    "            print('num:',num)\n",
    "            print('count:',cnt)\n",
    "            #init = prob_table[i]\n",
    "            #table  = tf.Variable(init)  # 每次都从原始的数据开始\n",
    "            table = tf.assign(prob_table_frame, prob_table[i])\n",
    "            #check_tb.append(table)\n",
    "            print('table:',table)\n",
    "            tmp = tf_sample_one(table)  # [70,4] -> [1,4]\n",
    "            if len(sample_set)==0:\n",
    "                sample_set_concat = tmp\n",
    "                sample_set.append(tmp)\n",
    "                num -= 1\n",
    "            else:\n",
    "                tmp_len = len(sample_set)#sample_set_concat.get_shape().as_list()[0]\n",
    "                sample_set_concat = tf.cond(tf_check_repeat(tmp,sample_set), \n",
    "                        true_fn=lambda: sample_set_concat, \n",
    "                        false_fn=lambda: tf.concat([sample_set_concat,tmp],0))  \n",
    "                if sample_set_concat.get_shape().as_list()[0]!=tmp_len:\n",
    "                    sample_set.append(tmp)\n",
    "                    num -= 1\n",
    "\n",
    "            if sample_set_concat.get_shape().as_list()[0] == k:\n",
    "                break\n",
    "        tmpp = tf.reshape(sample_set_concat,[k*(GEN_RANK_NUM-1),])\n",
    "        res = tf.concat([res, tmpp], 0)\n",
    "\n",
    "        i += 1\n",
    "        return [i,prob_table,res]\n",
    "        \n",
    "    _i, _prob_table,res = tf.while_loop(condition, \n",
    "                                        loop_body, \n",
    "                                        [i, prob_table, sample_res],\n",
    "                                        shape_invariants=[i.get_shape(),\n",
    "                                                          prob_table.get_shape(),\n",
    "                                                          tf.TensorShape([None])])\n",
    "    return res  # [bs, K, GEN_RANK_NUM-1]"
   ]
  },
  {
   "cell_type": "code",
   "execution_count": 85,
   "metadata": {},
   "outputs": [],
   "source": [
    "def tf_sample_one(table):\n",
    "    np.random.seed(16)\n",
    "    random_shifts = np.random.random([LENGTH,GEN_RANK_NUM-1])  # [70,4]\n",
    "    #print('------------\\n',random_shifts,'-----------\\n')\n",
    "    random_shifts /= random_shifts.sum(axis = 0)[np.newaxis,:]\n",
    "    result = []\n",
    "\n",
    "    for m in range(GEN_RANK_NUM-1):  # 4个位置\n",
    "        table_m = table[:,m]  # [70,1]\n",
    "\n",
    "        table_m /= tf.reduce_sum(table_m)  # 这里要控制执行顺序，先计算这里，再置零\n",
    "        shifted_probabilities = random_shifts[:,m] - table_m\n",
    "        with tf.control_dependencies([table_m,shifted_probabilities]):\n",
    "\n",
    "            l = tf.argmin(shifted_probabilities)  # 找出最小的index\n",
    "            table = set_value(table,x=l,y=m,col_len=GEN_RANK_NUM-1,val=0.)\n",
    "            result.append(l)\n",
    "\n",
    "    return tf.reshape(result,[1,len(result)])"
   ]
  },
  {
   "cell_type": "code",
   "execution_count": 86,
   "metadata": {},
   "outputs": [],
   "source": [
    "check = []\n",
    "check_tb = []\n"
   ]
  },
  {
   "cell_type": "code",
   "execution_count": 87,
   "metadata": {
    "scrolled": false
   },
   "outputs": [
    {
     "name": "stdout",
     "output_type": "stream",
     "text": [
      "num: 1\n",
      "count: 1\n",
      "table: Tensor(\"while_13/Assign:0\", shape=(7, 4), dtype=float64_ref)\n"
     ]
    },
    {
     "data": {
      "text/plain": [
       "<tf.Tensor 'while_13/Exit_2:0' shape=(?,) dtype=int64>"
      ]
     },
     "execution_count": 87,
     "metadata": {},
     "output_type": "execute_result"
    }
   ],
   "source": [
    "\n",
    "tf_k_list = tf_sample_and_test(a, 0.4)\n",
    "tf_k_list"
   ]
  },
  {
   "cell_type": "code",
   "execution_count": 88,
   "metadata": {},
   "outputs": [],
   "source": [
    "sess = tf.Session()\n",
    "init_op = tf.global_variables_initializer()\n",
    "sess.run(init_op)"
   ]
  },
  {
   "cell_type": "code",
   "execution_count": 89,
   "metadata": {
    "scrolled": false
   },
   "outputs": [],
   "source": [
    "k_list=sess.run([tf.reshape(tf_k_list,[-1,K,4])])"
   ]
  },
  {
   "cell_type": "code",
   "execution_count": 90,
   "metadata": {
    "scrolled": false
   },
   "outputs": [
    {
     "data": {
      "text/plain": [
       "[array([[[5, 6, 3, 0]],\n",
       " \n",
       "        [[2, 6, 3, 0]],\n",
       " \n",
       "        [[2, 1, 3, 0]]], dtype=int64)]"
      ]
     },
     "execution_count": 90,
     "metadata": {},
     "output_type": "execute_result"
    }
   ],
   "source": [
    "k_list"
   ]
  },
  {
   "cell_type": "code",
   "execution_count": 84,
   "metadata": {},
   "outputs": [
    {
     "data": {
      "text/plain": [
       "(3, 1, 4)"
      ]
     },
     "execution_count": 84,
     "metadata": {},
     "output_type": "execute_result"
    }
   ],
   "source": [
    "k_list[0].shape"
   ]
  },
  {
   "cell_type": "code",
   "execution_count": null,
   "metadata": {
    "collapsed": true
   },
   "outputs": [],
   "source": []
  },
  {
   "cell_type": "code",
   "execution_count": null,
   "metadata": {
    "collapsed": true
   },
   "outputs": [],
   "source": []
  },
  {
   "cell_type": "code",
   "execution_count": 66,
   "metadata": {},
   "outputs": [],
   "source": [
    "def tf_sample_and_test(prob_table, temperature, k=K):\n",
    "    prob_table = tf.convert_to_tensor(prob_table)\n",
    "    if len(prob_table.shape) == 3:\n",
    "        prob_table = prob_table[0:,0:,:-1]\n",
    "    elif len(prob_table.shape) == 2:\n",
    "        prob_table = np.reshape(prob_table, (-1, LENGTH, GEN_RANK_NUM))[:,:,0:-1]   \n",
    "    res = []\n",
    "    prob_table = tf.math.exp(prob_table * temperature)  # [bs, LENGTH, GEN_RANK_NUM-1]  [3,70,4]\n",
    "    \n",
    "    # 从每条候选概率[70,4]中抽样20个即[20,4]\n",
    "    i = 0\n",
    "    for i in range(prob_table.get_shape().as_list()[0]):  # bs\n",
    "        print('exam:',i)\n",
    "        sample_set = []  # 对于每个样本生成k个list\n",
    "        print('k={}'.format(k))\n",
    "        num = k\n",
    "        cnt = 0\n",
    "        while num > 0:  # 抽取20个sku的位置概率\n",
    "            cnt += 1\n",
    "            print('count:',cnt)\n",
    "            table  = tf.Variable(prob_table[i])  # 每次都从原始的数据开始\n",
    "            #check_tb.append(table)\n",
    "            print('table:',table)\n",
    "            tmp = tf_sample_one(table)  # [70,4] -> [1,4]\n",
    "            if len(sample_set)==0:\n",
    "                sample_set_concat = tmp\n",
    "                sample_set.append(tmp)\n",
    "                num -= 1\n",
    "                print('第一次加入sample-set list')\n",
    "            else:\n",
    "                print('进入非第一次')\n",
    "                tmp_len = len(sample_set)#sample_set_concat.get_shape().as_list()[0]\n",
    "                sample_set_concat = tf.cond(tf_check_repeat(tmp,sample_set), \n",
    "                        true_fn=lambda: sample_set_concat, \n",
    "                        false_fn=lambda: tf.concat([sample_set_concat,tmp],0))  \n",
    "                if sample_set_concat.get_shape().as_list()[0]!=tmp_len:\n",
    "                    sample_set.append(tmp)\n",
    "                    num -= 1\n",
    "                    print('不通的list入栈')\n",
    "                #sample_set.append(tmp)\n",
    "                print('[!] tmp:',tmp)\n",
    "                print('[!] sample_set_concat:',sample_set_concat)\n",
    "                check.append((tmp,sample_set_concat))\n",
    "            if sample_set_concat.get_shape().as_list()[0] == k:\n",
    "                break\n",
    "            if cnt > 3:\n",
    "                break\n",
    "        res.append(sample_set_concat)\n",
    "    print('[#] finish',res)\n",
    "    res = tf.stack(res,0)\n",
    "    return res  # [bs, K, GEN_RANK_NUM-1]"
   ]
  }
 ],
 "metadata": {
  "kernelspec": {
   "display_name": "Python 3",
   "language": "python",
   "name": "python3"
  },
  "language_info": {
   "codemirror_mode": {
    "name": "ipython",
    "version": 3
   },
   "file_extension": ".py",
   "mimetype": "text/x-python",
   "name": "python",
   "nbconvert_exporter": "python",
   "pygments_lexer": "ipython3",
   "version": "3.6.12"
  }
 },
 "nbformat": 4,
 "nbformat_minor": 2
}
