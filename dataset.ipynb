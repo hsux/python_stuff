{
 "cells": [
  {
   "cell_type": "code",
   "execution_count": 1,
   "metadata": {},
   "outputs": [],
   "source": [
    "import tensorflow as tf"
   ]
  },
  {
   "cell_type": "code",
   "execution_count": 2,
   "metadata": {},
   "outputs": [
    {
     "data": {
      "text/plain": [
       "'1.15.0'"
      ]
     },
     "execution_count": 2,
     "metadata": {},
     "output_type": "execute_result"
    }
   ],
   "source": [
    "tf.__version__"
   ]
  },
  {
   "cell_type": "code",
   "execution_count": 83,
   "metadata": {},
   "outputs": [],
   "source": [
    "import glob\n",
    "import numpy as np\n",
    "import matplotlib.pyplot as plt\n",
    "from matplotlib.pyplot import imshow\n",
    "from PIL import Image\n",
    "%matplotlib inline"
   ]
  },
  {
   "cell_type": "code",
   "execution_count": 35,
   "metadata": {},
   "outputs": [],
   "source": [
    "sess = tf.Session()"
   ]
  },
  {
   "cell_type": "code",
   "execution_count": 24,
   "metadata": {},
   "outputs": [],
   "source": [
    "dataset = tf.data.Dataset.range(1,4)"
   ]
  },
  {
   "cell_type": "code",
   "execution_count": 27,
   "metadata": {},
   "outputs": [
    {
     "data": {
      "text/plain": [
       "<RangeDataset shapes: (), types: tf.int64>"
      ]
     },
     "execution_count": 27,
     "metadata": {},
     "output_type": "execute_result"
    }
   ],
   "source": [
    "dataset"
   ]
  },
  {
   "cell_type": "code",
   "execution_count": 28,
   "metadata": {},
   "outputs": [],
   "source": [
    "d = tf.data.Dataset.range(4,8)"
   ]
  },
  {
   "cell_type": "code",
   "execution_count": 31,
   "metadata": {},
   "outputs": [],
   "source": [
    "dataset =dataset.concatenate(d)"
   ]
  },
  {
   "cell_type": "code",
   "execution_count": 30,
   "metadata": {},
   "outputs": [
    {
     "data": {
      "text/plain": [
       "<RangeDataset shapes: (), types: tf.int64>"
      ]
     },
     "execution_count": 30,
     "metadata": {},
     "output_type": "execute_result"
    }
   ],
   "source": [
    "d"
   ]
  },
  {
   "cell_type": "code",
   "execution_count": 34,
   "metadata": {},
   "outputs": [],
   "source": [
    "onedata = dataset.make_one_shot_iterator().get_next()\n",
    "#onedata = d.make_one_shot_iterator().get_next()"
   ]
  },
  {
   "cell_type": "code",
   "execution_count": 35,
   "metadata": {},
   "outputs": [
    {
     "name": "stdout",
     "output_type": "stream",
     "text": [
      "Num Batch:  0\n",
      "Batch value:  1\n",
      "Num Batch:  1\n",
      "Batch value:  2\n",
      "Num Batch:  2\n",
      "Batch value:  3\n",
      "Num Batch:  3\n",
      "Batch value:  4\n",
      "Num Batch:  4\n",
      "Batch value:  5\n",
      "Num Batch:  5\n",
      "Batch value:  6\n",
      "Num Batch:  6\n",
      "Batch value:  7\n"
     ]
    }
   ],
   "source": [
    "num_batch = 0\n",
    "while True:\n",
    "    try:\n",
    "        value = sess.run(onedata)\n",
    "        print(\"Num Batch: \", num_batch)\n",
    "        print(\"Batch value: \", value)\n",
    "        #assert j == value\n",
    "        #j += 1\n",
    "        num_batch += 1\n",
    "    except tf.errors.OutOfRangeError:\n",
    "        break"
   ]
  },
  {
   "cell_type": "code",
   "execution_count": null,
   "metadata": {},
   "outputs": [],
   "source": []
  },
  {
   "cell_type": "markdown",
   "metadata": {},
   "source": [
    "# 读取文本等数据"
   ]
  },
  {
   "cell_type": "code",
   "execution_count": null,
   "metadata": {},
   "outputs": [],
   "source": []
  },
  {
   "cell_type": "markdown",
   "metadata": {},
   "source": [
    "# 读取图像数据"
   ]
  },
  {
   "cell_type": "code",
   "execution_count": 54,
   "metadata": {},
   "outputs": [],
   "source": [
    "target_size = (128,128)\n",
    "batch_size = 5"
   ]
  },
  {
   "cell_type": "code",
   "execution_count": 55,
   "metadata": {},
   "outputs": [],
   "source": [
    "def read_decode(path, label):\n",
    "    img = tf.image.decode_image(tf.read_file(path), channels=3)\n",
    "    img = tf.image.resize_bilinear(tf.expand_dims(img, axis=0), target_size)\n",
    "    img = tf.squeeze(img, 0)\n",
    "    #img = preprocess_fct(img) # should work with Tensors !\n",
    "\n",
    "    label = tf.one_hot(label, num_classes)\n",
    "    img = tf.Print(img, [path, label], 'Read_decode')\n",
    "    return (img, label)"
   ]
  },
  {
   "cell_type": "code",
   "execution_count": 56,
   "metadata": {},
   "outputs": [],
   "source": [
    "def get_files(dir_path, label):\n",
    "    globbed = tf.string_join([dir_path, '*.jpg'])\n",
    "    files = tf.matching_files(globbed)\n",
    "\n",
    "    num_files = tf.shape(files)[0] # in the directory\n",
    "    labels = tf.tile([label], [num_files, ]) # expand label to all files\n",
    "    return tf.data.Dataset.from_tensor_slices((files, labels))"
   ]
  },
  {
   "cell_type": "code",
   "execution_count": 107,
   "metadata": {},
   "outputs": [],
   "source": [
    "directory = 'D:/workspace/data/train_tmp'\n",
    "# directory/label1/dog.1.jpg\n",
    "# directory/label2/cat.1.jpg"
   ]
  },
  {
   "cell_type": "markdown",
   "metadata": {},
   "source": [
    "https://www.tensorflow.org/versions/r1.15/api_docs/python/tf/data/Dataset#interleave"
   ]
  },
  {
   "cell_type": "code",
   "execution_count": 129,
   "metadata": {},
   "outputs": [],
   "source": [
    "classes = sorted(glob.glob(directory + '/*/')) # final slash selects directories only\n",
    "num_classes = len(classes)\n",
    "\n",
    "labels = np.arange(num_classes, dtype=np.int32)\n",
    "\n",
    " # 1 Creates a Dataset whose elements are slices of the given tensors.\n",
    "dirs = tf.data.Dataset.from_tensor_slices(\n",
    "        tensors=(classes, labels)  # A dataset element, with each component having the same size in the 0th dimension.\n",
    "                                         ) \n",
    "files = dirs.apply(# Applies a transformation function to this dataset.\n",
    "    tf.data.experimental.parallel_interleave( # Maps map_func across this dataset, and interleaves the results.\n",
    "    get_files, cycle_length=num_classes, block_length=4,      # 2\n",
    "    sloppy=True)) # False is important ! Otherwise it mixes labels\n",
    "files = files.cache()\n",
    "imgs = files.map(read_decode, num_parallel_calls=2).apply(tf.data.experimental.shuffle_and_repeat(2,1))\\\n",
    "            .batch(batch_size)\\\n",
    "            .prefetch(5)"
   ]
  },
  {
   "cell_type": "code",
   "execution_count": 130,
   "metadata": {},
   "outputs": [],
   "source": [
    "imgs = imgs.shuffle(buffer_size=6)"
   ]
  },
  {
   "cell_type": "code",
   "execution_count": 136,
   "metadata": {},
   "outputs": [],
   "source": [
    "imgs_iter = imgs.make_one_shot_iterator()  # Creates an Iterator for enumerating the elements of this dataset. (deprecated)\n",
    "imgs_iter = imgs_iter.get_next()  # 获取下一个数据"
   ]
  },
  {
   "cell_type": "code",
   "execution_count": 137,
   "metadata": {},
   "outputs": [
    {
     "name": "stdout",
     "output_type": "stream",
     "text": [
      "2\n",
      "Num Batch:  0\n",
      "(3, 128, 128, 3)\n",
      "2\n",
      "Num Batch:  1\n",
      "(5, 128, 128, 3)\n",
      "2\n",
      "Num Batch:  2\n",
      "(5, 128, 128, 3)\n"
     ]
    }
   ],
   "source": [
    "num_batch = 0\n",
    "while True:\n",
    "    try:\n",
    "        value = sess.run(imgs_iter)\n",
    "        print(len(value))\n",
    "        print(\"Num Batch: \", num_batch)\n",
    "        print(value[0].shape)\n",
    "        #print(\"Batch value: \", value)\n",
    "        #assert j == value\n",
    "        #j += 1\n",
    "        num_batch += 1\n",
    "        \n",
    "        #break\n",
    "    except tf.errors.OutOfRangeError:\n",
    "        break"
   ]
  },
  {
   "cell_type": "code",
   "execution_count": 133,
   "metadata": {},
   "outputs": [
    {
     "data": {
      "text/plain": [
       "array([[0., 1.],\n",
       "       [0., 1.],\n",
       "       [0., 1.],\n",
       "       [0., 1.],\n",
       "       [1., 0.]], dtype=float32)"
      ]
     },
     "execution_count": 133,
     "metadata": {},
     "output_type": "execute_result"
    }
   ],
   "source": [
    "classes\n",
    "num_classes\n",
    "value[1]"
   ]
  },
  {
   "cell_type": "code",
   "execution_count": 106,
   "metadata": {},
   "outputs": [
    {
     "data": {
      "text/plain": [
       "<matplotlib.image.AxesImage at 0x24675906240>"
      ]
     },
     "execution_count": 106,
     "metadata": {},
     "output_type": "execute_result"
    },
    {
     "data": {
      "image/png": "[encoded data removed]",
      "text/plain": [
       "<Figure size 432x288 with 1 Axes>"
      ]
     },
     "metadata": {
      "needs_background": "light"
     },
     "output_type": "display_data"
    }
   ],
   "source": [
    "value\n",
    "imshow(np.asarray(value[0][0]).astype(np.int32))"
   ]
  },
  {
   "cell_type": "code",
   "execution_count": 94,
   "metadata": {},
   "outputs": [
    {
     "data": {
      "text/plain": [
       "array([[[202, 163,  86],\n",
       "        [206, 167,  90],\n",
       "        [209, 170,  93],\n",
       "        ...,\n",
       "        [246, 208, 125],\n",
       "        [244, 204, 119],\n",
       "        [240, 202, 121]],\n",
       "\n",
       "       [[202, 163,  86],\n",
       "        [206, 167,  90],\n",
       "        [209, 170,  93],\n",
       "        ...,\n",
       "        [245, 208, 127],\n",
       "        [243, 205, 120],\n",
       "        [241, 203, 122]],\n",
       "\n",
       "       [[202, 163,  86],\n",
       "        [206, 167,  90],\n",
       "        [209, 170,  93],\n",
       "        ...,\n",
       "        [246, 210, 129],\n",
       "        [243, 206, 125],\n",
       "        [242, 204, 123]],\n",
       "\n",
       "       ...,\n",
       "\n",
       "       [[156, 124,  51],\n",
       "        [157, 125,  52],\n",
       "        [159, 127,  54],\n",
       "        ...,\n",
       "        [  3,   4,   0],\n",
       "        [  3,   4,   0],\n",
       "        [  1,   2,   0]],\n",
       "\n",
       "       [[154, 123,  54],\n",
       "        [155, 124,  55],\n",
       "        [157, 127,  57],\n",
       "        ...,\n",
       "        [  2,   3,   0],\n",
       "        [  2,   3,   0],\n",
       "        [  2,   3,   0]],\n",
       "\n",
       "       [[151, 120,  53],\n",
       "        [153, 122,  55],\n",
       "        [156, 125,  58],\n",
       "        ...,\n",
       "        [  1,   2,   0],\n",
       "        [  1,   2,   0],\n",
       "        [  1,   2,   0]]])"
      ]
     },
     "execution_count": 94,
     "metadata": {},
     "output_type": "execute_result"
    }
   ],
   "source": [
    "np.asarray(value[0][0]).astype(np.int32)"
   ]
  },
  {
   "cell_type": "code",
   "execution_count": 95,
   "metadata": {},
   "outputs": [
    {
     "data": {
      "text/plain": [
       "array([[[202.      , 163.      ,  86.      ],\n",
       "        [206.8125  , 167.8125  ,  90.8125  ],\n",
       "        [209.1875  , 170.1875  ,  93.1875  ],\n",
       "        ...,\n",
       "        [246.      , 208.      , 125.      ],\n",
       "        [244.8125  , 204.8125  , 119.8125  ],\n",
       "        [240.90625 , 202.90625 , 121.90625 ]],\n",
       "\n",
       "       [[202.      , 163.      ,  86.      ],\n",
       "        [206.8125  , 167.8125  ,  90.8125  ],\n",
       "        [209.1875  , 170.1875  ,  93.1875  ],\n",
       "        ...,\n",
       "        [245.97803 , 208.97803 , 127.97803 ],\n",
       "        [243.8125  , 205.8125  , 120.8125  ],\n",
       "        [241.82812 , 203.82812 , 122.828125]],\n",
       "\n",
       "       [[202.      , 163.      ,  86.      ],\n",
       "        [206.8125  , 167.8125  ,  90.8125  ],\n",
       "        [209.1875  , 170.1875  ,  93.1875  ],\n",
       "        ...,\n",
       "        [246.15625 , 210.84375 , 129.71875 ],\n",
       "        [243.96875 , 206.8125  , 125.5     ],\n",
       "        [242.90625 , 204.90625 , 123.90625 ]],\n",
       "\n",
       "       ...,\n",
       "\n",
       "       [[156.76562 , 124.765625,  51.765625],\n",
       "        [157.97803 , 125.97803 ,  52.978027],\n",
       "        [159.62207 , 127.62207 ,  54.62207 ],\n",
       "        ...,\n",
       "        [  3.      ,   4.      ,   0.      ],\n",
       "        [  3.      ,   4.      ,   0.      ],\n",
       "        [  1.      ,   2.      ,   0.      ]],\n",
       "\n",
       "       [[154.      , 123.84375 ,  54.3125  ],\n",
       "        [155.      , 124.84375 ,  55.3125  ],\n",
       "        [157.625   , 127.46875 ,  57.9375  ],\n",
       "        ...,\n",
       "        [  2.      ,   3.      ,   0.      ],\n",
       "        [  2.      ,   3.      ,   0.      ],\n",
       "        [  2.      ,   3.      ,   0.      ]],\n",
       "\n",
       "       [[151.92188 , 120.921875,  53.921875],\n",
       "        [153.82812 , 122.828125,  55.828125],\n",
       "        [156.35938 , 125.359375,  58.359375],\n",
       "        ...,\n",
       "        [  1.921875,   2.921875,   0.      ],\n",
       "        [  1.921875,   2.921875,   0.      ],\n",
       "        [  1.921875,   2.921875,   0.      ]]], dtype=float32)"
      ]
     },
     "execution_count": 95,
     "metadata": {},
     "output_type": "execute_result"
    }
   ],
   "source": [
    "value[0][0]"
   ]
  },
  {
   "cell_type": "code",
   "execution_count": null,
   "metadata": {},
   "outputs": [],
   "source": []
  }
 ],
 "metadata": {
  "kernelspec": {
   "display_name": "Python 3",
   "language": "python",
   "name": "python3"
  },
  "language_info": {
   "codemirror_mode": {
    "name": "ipython",
    "version": 3
   },
   "file_extension": ".py",
   "mimetype": "text/x-python",
   "name": "python",
   "nbconvert_exporter": "python",
   "pygments_lexer": "ipython3",
   "version": "3.6.10"
  }
 },
 "nbformat": 4,
 "nbformat_minor": 2
}
