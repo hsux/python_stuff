{
 "cells": [
  {
   "cell_type": "code",
   "execution_count": 2,
   "metadata": {
    "collapsed": true
   },
   "outputs": [],
   "source": [
    "import tensorflow as tf\n",
    "import numpy as np\n",
    "import random"
   ]
  },
  {
   "cell_type": "code",
   "execution_count": 3,
   "metadata": {
    "collapsed": true
   },
   "outputs": [],
   "source": [
    "r=[0.15155207,0.11699013,0.26611059,0.15686263,0.00558321,0.2702405,0.03266088]\n",
    "t = [0.13807413,0.12125762,0.13819417,0.15280597,0.16097994,0.1671388,0.12154939]"
   ]
  },
  {
   "cell_type": "code",
   "execution_count": 6,
   "metadata": {
    "collapsed": true
   },
   "outputs": [],
   "source": [
    "s=[ 0.08949357,  0.05534549,  0.22303611,  0.19108694, -0.15289583,\n",
    "          0.15693004, -0.05748629]"
   ]
  },
  {
   "cell_type": "code",
   "execution_count": 7,
   "metadata": {
    "collapsed": false
   },
   "outputs": [
    {
     "data": {
      "text/plain": [
       "array([ 0.0620585 ,  0.06164464,  0.04307448, -0.03422431,  0.15847904,\n",
       "        0.11331046,  0.09014717])"
      ]
     },
     "execution_count": 7,
     "metadata": {},
     "output_type": "execute_result"
    }
   ],
   "source": [
    "np.array(r)-np.array(s)"
   ]
  },
  {
   "cell_type": "code",
   "execution_count": 5,
   "metadata": {
    "collapsed": false
   },
   "outputs": [
    {
     "data": {
      "text/plain": [
       "0.062058500000000016"
      ]
     },
     "execution_count": 5,
     "metadata": {},
     "output_type": "execute_result"
    }
   ],
   "source": [
    "r[0]-0.08949357\n"
   ]
  },
  {
   "cell_type": "code",
   "execution_count": 9,
   "metadata": {
    "collapsed": false
   },
   "outputs": [
    {
     "data": {
      "text/plain": [
       "7.179664880000001"
      ]
     },
     "execution_count": 9,
     "metadata": {},
     "output_type": "execute_result"
    }
   ],
   "source": [
    "a=[1.18152834, 1.03762603, 1.18255554, 1.30759164,0.,1.43024058, 1.04012275]\n",
    "sum(a)"
   ]
  },
  {
   "cell_type": "code",
   "execution_count": null,
   "metadata": {
    "collapsed": true
   },
   "outputs": [],
   "source": [
    "(8.557202840661846,\n",
    "  array([1.18152834, 1.03762603, 1.18255554, 1.30759164, 1.37753797,\n",
    "         1.43024058, 1.04012275])),\n",
    " (array([0.13807413, 0.12125762, 0.13819417, 0.15280597, 0.16097994,\n",
    "         0.1671388 , 0.12154939]),\n",
    "  array([ 0.08949357,  0.05534549,  0.22303611,  0.19108694, -0.15289583,\n",
    "          0.15693004, -0.05748629])),"
   ]
  }
 ],
 "metadata": {
  "kernelspec": {
   "display_name": "Python 3",
   "language": "python",
   "name": "python3"
  },
  "language_info": {
   "codemirror_mode": {
    "name": "ipython",
    "version": 3
   },
   "file_extension": ".py",
   "mimetype": "text/x-python",
   "name": "python",
   "nbconvert_exporter": "python",
   "pygments_lexer": "ipython3",
   "version": "3.6.0"
  }
 },
 "nbformat": 4,
 "nbformat_minor": 2
}
