{
 "cells": [
  {
   "cell_type": "code",
   "execution_count": 1,
   "metadata": {},
   "outputs": [
    {
     "name": "stdout",
     "output_type": "stream",
     "text": [
      "a_function_requiring_decoration\n"
     ]
    }
   ],
   "source": [
    "from functools import wraps\n",
    " \n",
    "def a_new_decorator(a_func):\n",
    "    @wraps(a_func)\n",
    "    def wrapTheFunction():\n",
    "        print(\"I am doing some boring work before executing a_func()\")\n",
    "        a_func()\n",
    "        print(\"I am doing some boring work after executing a_func()\")\n",
    "    return wrapTheFunction\n",
    " \n",
    "@a_new_decorator\n",
    "def a_function_requiring_decoration():\n",
    "    \"\"\"Hey yo! Decorate me!\"\"\"\n",
    "    print(\"I am the function which needs some decoration to \"\n",
    "          \"remove my foul smell\")\n",
    " \n",
    "print(a_function_requiring_decoration.__name__)"
   ]
  },
  {
   "cell_type": "code",
   "execution_count": 2,
   "metadata": {},
   "outputs": [
    {
     "name": "stdout",
     "output_type": "stream",
     "text": [
      "I am doing some boring work before executing a_func()\n",
      "I am the function which needs some decoration to remove my foul smell\n",
      "I am doing some boring work after executing a_func()\n"
     ]
    }
   ],
   "source": [
    "a_function_requiring_decoration()"
   ]
  },
  {
   "cell_type": "code",
   "execution_count": 3,
   "metadata": {},
   "outputs": [
    {
     "name": "stdout",
     "output_type": "stream",
     "text": [
      "Function is running\n",
      "Function will not run\n"
     ]
    }
   ],
   "source": [
    "def decorator_name(f):\n",
    "    @wraps(f)\n",
    "    def decorated(*args, **kwargs):\n",
    "        if not can_run:\n",
    "            return \"Function will not run\"\n",
    "        return f(*args, **kwargs)\n",
    "    return decorated\n",
    " \n",
    "@decorator_name  # 包一层的直接函数名\n",
    "def func():\n",
    "    return(\"Function is running\")\n",
    " \n",
    "can_run = True\n",
    "print(func())\n",
    "# Output: Function is running\n",
    " \n",
    "can_run = False\n",
    "print(func())\n",
    "# Output: Function will not run"
   ]
  },
  {
   "cell_type": "code",
   "execution_count": 4,
   "metadata": {},
   "outputs": [
    {
     "name": "stdout",
     "output_type": "stream",
     "text": [
      "myfunc1 was called\n",
      "myfunc2 was called\n"
     ]
    }
   ],
   "source": [
    "def logit(logfile='out.log'):\n",
    "    def logging_decorator(func):\n",
    "        @wraps(func)\n",
    "        def wrapped_function(*args, **kwargs):\n",
    "            log_string = func.__name__ + \" was called\"\n",
    "            print(log_string)\n",
    "            # 打开logfile，并写入内容\n",
    "            with open(logfile, 'a') as opened_file:\n",
    "                # 现在将日志打到指定的logfile\n",
    "                opened_file.write(log_string + '\\n')\n",
    "            return func(*args, **kwargs)\n",
    "        return wrapped_function\n",
    "    return logging_decorator  # 返回装饰器\n",
    " \n",
    "@logit()  # 包两层的要调用下\n",
    "def myfunc1():\n",
    "    pass\n",
    " \n",
    "myfunc1()\n",
    "# Output: myfunc1 was called\n",
    "# 现在一个叫做 out.log 的文件出现了，里面的内容就是上面的字符串\n",
    " \n",
    "@logit(logfile='func2.log')\n",
    "def myfunc2():\n",
    "    pass\n",
    " \n",
    "myfunc2()\n",
    "# Output: myfunc2 was called\n",
    "# 现在一个叫做 func2.log 的文件出现了，里面的内容就是上面的字符串"
   ]
  },
  {
   "cell_type": "code",
   "execution_count": 2,
   "metadata": {},
   "outputs": [],
   "source": [
    "import tensorflow as tf"
   ]
  },
  {
   "cell_type": "code",
   "execution_count": 3,
   "metadata": {},
   "outputs": [],
   "source": [
    "import functools"
   ]
  },
  {
   "cell_type": "code",
   "execution_count": 4,
   "metadata": {},
   "outputs": [
    {
     "data": {
      "text/plain": [
       "'1.15.0'"
      ]
     },
     "execution_count": 4,
     "metadata": {},
     "output_type": "execute_result"
    }
   ],
   "source": [
    "tf.__version__"
   ]
  },
  {
   "cell_type": "code",
   "execution_count": 5,
   "metadata": {},
   "outputs": [
    {
     "data": {
      "text/plain": [
       "''"
      ]
     },
     "execution_count": 5,
     "metadata": {},
     "output_type": "execute_result"
    }
   ],
   "source": [
    "tf.get_default_graph().get_name_scope()"
   ]
  },
  {
   "cell_type": "code",
   "execution_count": 6,
   "metadata": {},
   "outputs": [
    {
     "name": "stdout",
     "output_type": "stream",
     "text": [
      "V2\n",
      "WARNING:tensorflow:From d:\\python\\anaconda3\\envs\\tf15\\lib\\site-packages\\tensorflow_core\\python\\util\\tf_should_use.py:198: initialize_all_variables (from tensorflow.python.ops.variables) is deprecated and will be removed after 2017-03-02.\n",
      "Instructions for updating:\n",
      "Use `tf.global_variables_initializer` instead.\n",
      "V1/a2:0\n",
      "V2/a2:0\n"
     ]
    }
   ],
   "source": [
    "with tf.name_scope('V1'):  \n",
    "    # a1 = tf.get_variable(name='a1', shape=[1], initializer=tf.constant_initializer(1))  \n",
    "    a2 = tf.Variable(tf.random_normal(shape=[2,3], mean=0, stddev=1), name='a2')  \n",
    "with tf.name_scope('V2'):  \n",
    "    # a3 = tf.get_variable(name='a1', shape=[1], initializer=tf.constant_initializer(1))  \n",
    "    a4 = tf.Variable(tf.random_normal(shape=[2,3], mean=0, stddev=1), name='a2')  \n",
    "    print(tf.get_default_graph().get_name_scope())\n",
    "    \n",
    "with tf.Session() as sess:  \n",
    "    sess.run(tf.initialize_all_variables())  \n",
    "    # print a1.name  \n",
    "    print(a2.name)  \n",
    "    # print a3.name  \n",
    "    print(a4.name)  "
   ]
  },
  {
   "cell_type": "code",
   "execution_count": 7,
   "metadata": {},
   "outputs": [
    {
     "data": {
      "text/plain": [
       "''"
      ]
     },
     "execution_count": 7,
     "metadata": {},
     "output_type": "execute_result"
    }
   ],
   "source": [
    "tf.get_default_graph().get_name_scope()"
   ]
  },
  {
   "cell_type": "code",
   "execution_count": 8,
   "metadata": {},
   "outputs": [],
   "source": [
    "class Meta(type):  \n",
    "   \n",
    "    record_cls = []\n",
    "\n",
    "    def __new__(cls, name, bases, attrs):\n",
    "        new_cls = type.__new__(cls, name, bases, attrs)\n",
    "        Meta.record_cls.append(new_cls)\n",
    "        return new_cls\n",
    "    \n",
    "    def __init__(cls, name, bases, namespace, **kwargs):\n",
    "        super().__init__(name, bases, namespace, **kwargs)\n",
    "        if not hasattr(cls, 'registory'):  # build only in the first subclass\n",
    "            # this is the base class\n",
    "            cls.registory = {}\n",
    "        else:\n",
    "            # this is the subclass\n",
    "            cls.registory[name.lower()] = cls\n",
    "            \n",
    "    def create(cls, class_name, *args, **kwargs):\n",
    "        return cls.registory[class_name.lower()](*args, **kwargs)\n"
   ]
  },
  {
   "cell_type": "code",
   "execution_count": 248,
   "metadata": {},
   "outputs": [],
   "source": [
    "class Module(object, metaclass=Meta):\n",
    "    \n",
    "    def __init__(self, name, **kwargs):\n",
    "        self.name = name+'qq'\n",
    "        \n",
    "        self.parent_name = tf.get_default_graph().get_name_scope()\n",
    "        if self.parent_name:\n",
    "            self.total_name = self.parent_name + '/' + self.name + '/'\n",
    "        else:\n",
    "            self.total_name = self.name + '/'\n",
    "        self._ns_call_count = 0\n",
    "\n",
    "        self.name_scope = tf.name_scope(self.total_name)\n",
    "        self.restore_variables = {}\n",
    "        self.summaries = []\n",
    "        self.updates = []\n",
    "        print('====',self.name,name,self._ns_call_count)\n",
    "\n",
    "    @staticmethod\n",
    "    def with_name_scope(func):\n",
    "        \n",
    "        @functools.wraps(func)\n",
    "        def inner(self, *args, **kwargs):\n",
    "            parent_name = tf.get_default_graph().get_name_scope()\n",
    "            name = self.name + '_-_' + str(self._ns_call_count) if self._ns_call_count else self.name\n",
    "            if parent_name:\n",
    "                total_name = parent_name + '/' + name + '/'\n",
    "            else:\n",
    "                total_name = name + '/'\n",
    "            self._ns_call_count += 1\n",
    "            print('inner',self._ns_call_count,total_name,parent_name,name)\n",
    "            with tf.name_scope(total_name):\n",
    "                return func(self, *args, **kwargs)\n",
    "\n",
    "        return inner\n",
    "\n",
    "    def _get_recursive_list(self, key, seen):\n",
    "        print('=======',self.name)\n",
    "        ret = []\n",
    "\n",
    "        if self in seen:\n",
    "            return ret\n",
    "        seen.add(self)\n",
    "        ret.extend(getattr(self, key))\n",
    "        print('ret:',ret,'key',key)\n",
    "        def _extend(val):\n",
    "            if isinstance(val, Module):\n",
    "                ret.extend(val._get_recursive_list(key, seen))\n",
    "            if isinstance(val, tf.keras.layers.Layer):\n",
    "                if not (val in seen):\n",
    "                    ret.extend(getattr(val, key))\n",
    "                seen.add(val)\n",
    "\n",
    "        for attr in dir(self):\n",
    "            print('attr',attr)\n",
    "            val = getattr(self, attr)\n",
    "            if isinstance(val, list):\n",
    "                for v in val:\n",
    "                    _extend(v)\n",
    "            elif isinstance(val, dict):\n",
    "                for k, v in val.items():\n",
    "                    _extend(v)\n",
    "            else:\n",
    "                _extend(val)\n",
    "\n",
    "        return ret\n",
    "\n",
    "    def get_updates(self, seen=None):\n",
    "        if not isinstance(seen, set):\n",
    "            seen = set()\n",
    "        print('get_updates', seen)\n",
    "        return self._get_recursive_list('updates', seen)"
   ]
  },
  {
   "cell_type": "code",
   "execution_count": 249,
   "metadata": {},
   "outputs": [],
   "source": [
    "class Dense(tf.Module):\n",
    "\n",
    "    def __init__(self, name,):\n",
    "        super(Dense, self).__init__(name)\n",
    "        with self.name_scope:\n",
    "            print('+',name,tf.get_default_graph().get_name_scope(),self.name_scope)\n",
    "            self.w = tf.Variable(\n",
    "                tf.random_normal(shape=[2,3], mean=0, stddev=1),\n",
    "                name='w', \n",
    "                dtype=tf.float32)\n",
    "            self.b = tf.Variable(\n",
    "                tf.random_normal(shape=[2,3], mean=0, stddev=1),\n",
    "                name='b',\n",
    "                dtype=tf.float32)\n",
    "\n",
    "    @tf.Module.with_name_scope\n",
    "    def __call__(self, training=False):\n",
    "        print(tf.get_default_graph().get_name_scope())\n",
    "        self.de = tf.Variable(tf.random.normal([4, 3]))\n",
    "        return training"
   ]
  },
  {
   "cell_type": "code",
   "execution_count": 250,
   "metadata": {},
   "outputs": [
    {
     "name": "stdout",
     "output_type": "stream",
     "text": [
      "+ ee ee_4 <tensorflow.python.framework.ops.name_scope object at 0x0000018EE8305CF8>\n"
     ]
    },
    {
     "data": {
      "text/plain": [
       "<__main__.Dense at 0x18ee82feeb8>"
      ]
     },
     "execution_count": 250,
     "metadata": {},
     "output_type": "execute_result"
    }
   ],
   "source": [
    "e=Dense('ee')\n",
    "e"
   ]
  },
  {
   "cell_type": "code",
   "execution_count": 251,
   "metadata": {},
   "outputs": [
    {
     "name": "stdout",
     "output_type": "stream",
     "text": [
      "ee_4\n"
     ]
    },
    {
     "data": {
      "text/plain": [
       "False"
      ]
     },
     "execution_count": 251,
     "metadata": {},
     "output_type": "execute_result"
    }
   ],
   "source": [
    "e()"
   ]
  },
  {
   "cell_type": "code",
   "execution_count": 252,
   "metadata": {},
   "outputs": [],
   "source": [
    "class MLP(tf.Module):\n",
    "\n",
    "    def __init__(self, name):\n",
    "        super(MLP, self).__init__(name)\n",
    "        with self.name_scope:\n",
    "            print('*',name,tf.get_default_graph().get_name_scope(),self.name_scope)\n",
    "            self.layers = []\n",
    "            for i in range(2):\n",
    "                self.layers.append(\n",
    "                    Dense(\n",
    "                        'dense_%d' % (i,),\n",
    "                        )\n",
    "                    )\n",
    "        print(dir(self))\n",
    "    @tf.Module.with_name_scope\n",
    "    def __call__(self,training=False):\n",
    "        print(tf.get_default_graph().get_name_scope())\n",
    "        self.ml = tf.Variable(tf.random.normal([4, 3]))\n",
    "        return 1"
   ]
  },
  {
   "cell_type": "code",
   "execution_count": 253,
   "metadata": {
    "scrolled": true
   },
   "outputs": [
    {
     "name": "stdout",
     "output_type": "stream",
     "text": [
      "* mlp mlp_7 <tensorflow.python.framework.ops.name_scope object at 0x0000018EE830AF28>\n",
      "+ dense_0 mlp_7/dense_0 <tensorflow.python.framework.ops.name_scope object at 0x0000018EE830AC18>\n",
      "+ dense_1 mlp_7/dense_1 <tensorflow.python.framework.ops.name_scope object at 0x0000018EE831FFD0>\n",
      "['_TF_MODULE_IGNORED_PROPERTIES', '__call__', '__class__', '__delattr__', '__dict__', '__dir__', '__doc__', '__eq__', '__format__', '__ge__', '__getattribute__', '__gt__', '__hash__', '__init__', '__init_subclass__', '__le__', '__lt__', '__module__', '__ne__', '__new__', '__reduce__', '__reduce_ex__', '__repr__', '__setattr__', '__sizeof__', '__str__', '__subclasshook__', '__weakref__', '_add_variable_with_custom_getter', '_checkpoint_dependencies', '_deferred_dependencies', '_flatten', '_gather_saveables_for_checkpoint', '_handle_deferred_dependencies', '_list_extra_dependencies_for_serialization', '_list_functions_for_serialization', '_lookup_dependency', '_maybe_initialize_trackable', '_name', '_name_based_attribute_restore', '_name_based_restores', '_no_dependency', '_object_identifier', '_preload_simple_restoration', '_restore_from_checkpoint_position', '_scope_name', '_self_name_based_restores', '_self_setattr_tracking', '_self_unconditional_checkpoint_dependencies', '_self_unconditional_deferred_dependencies', '_self_unconditional_dependency_names', '_self_update_uid', '_setattr_tracking', '_single_restoration_from_checkpoint_position', '_tf_api_names', '_tf_api_names_v1', '_track_trackable', '_tracking_metadata', '_unconditional_checkpoint_dependencies', '_unconditional_dependency_names', '_update_uid', 'layers', 'name', 'name_scope', 'submodules', 'trainable_variables', 'variables', 'with_name_scope']\n"
     ]
    }
   ],
   "source": [
    "a = MLP('mlp')"
   ]
  },
  {
   "cell_type": "code",
   "execution_count": 254,
   "metadata": {},
   "outputs": [
    {
     "name": "stdout",
     "output_type": "stream",
     "text": [
      "mlp_7\n"
     ]
    },
    {
     "data": {
      "text/plain": [
       "(<tf.Variable 'mlp_7/Variable:0' shape=(4, 3) dtype=float32_ref>,\n",
       " <tf.Variable 'mlp_7/dense_0/b:0' shape=(2, 3) dtype=float32_ref>,\n",
       " <tf.Variable 'mlp_7/dense_0/w:0' shape=(2, 3) dtype=float32_ref>,\n",
       " <tf.Variable 'mlp_7/dense_1/b:0' shape=(2, 3) dtype=float32_ref>,\n",
       " <tf.Variable 'mlp_7/dense_1/w:0' shape=(2, 3) dtype=float32_ref>)"
      ]
     },
     "execution_count": 254,
     "metadata": {},
     "output_type": "execute_result"
    }
   ],
   "source": [
    "a()\n",
    "a.trainable_variables"
   ]
  },
  {
   "cell_type": "code",
   "execution_count": 242,
   "metadata": {},
   "outputs": [
    {
     "data": {
      "text/plain": [
       "<tf.Variable 'mlpqq/Variable_11:0' shape=(4, 3) dtype=float32_ref>"
      ]
     },
     "execution_count": 242,
     "metadata": {},
     "output_type": "execute_result"
    }
   ],
   "source": [
    "a.ml"
   ]
  },
  {
   "cell_type": "code",
   "execution_count": 243,
   "metadata": {},
   "outputs": [
    {
     "name": "stdout",
     "output_type": "stream",
     "text": [
      "inner 1 dense_1qq/  dense_1qq\n",
      "dense_1qq\n"
     ]
    },
    {
     "data": {
      "text/plain": [
       "False"
      ]
     },
     "execution_count": 243,
     "metadata": {},
     "output_type": "execute_result"
    }
   ],
   "source": [
    "\n",
    "a.layers[1]()"
   ]
  },
  {
   "cell_type": "code",
   "execution_count": 244,
   "metadata": {},
   "outputs": [
    {
     "data": {
      "text/plain": [
       "'mlpqq'"
      ]
     },
     "execution_count": 244,
     "metadata": {},
     "output_type": "execute_result"
    }
   ],
   "source": [
    "a.name"
   ]
  },
  {
   "cell_type": "code",
   "execution_count": 245,
   "metadata": {},
   "outputs": [
    {
     "data": {
      "text/plain": [
       "[<tf.Variable 'V1/a2:0' shape=(2, 3) dtype=float32_ref>,\n",
       " <tf.Variable 'V2/a2:0' shape=(2, 3) dtype=float32_ref>,\n",
       " <tf.Variable 'mlpqq/dense_0qq/w:0' shape=(2, 3) dtype=float32_ref>,\n",
       " <tf.Variable 'mlpqq/dense_0qq/b:0' shape=(2, 3) dtype=float32_ref>,\n",
       " <tf.Variable 'mlpqq/dense_1qq/w:0' shape=(2, 3) dtype=float32_ref>,\n",
       " <tf.Variable 'mlpqq/dense_1qq/b:0' shape=(2, 3) dtype=float32_ref>,\n",
       " <tf.Variable 'mlpqq/dense_2qq/w:0' shape=(2, 3) dtype=float32_ref>,\n",
       " <tf.Variable 'mlpqq/dense_2qq/b:0' shape=(2, 3) dtype=float32_ref>,\n",
       " <tf.Variable 'mlpqq/dense_3qq/w:0' shape=(2, 3) dtype=float32_ref>,\n",
       " <tf.Variable 'mlpqq/dense_3qq/b:0' shape=(2, 3) dtype=float32_ref>,\n",
       " <tf.Variable 'mlpqq/Variable:0' shape=(4, 3) dtype=float32_ref>,\n",
       " <tf.Variable 'dense_3qq/Variable:0' shape=(4, 3) dtype=float32_ref>,\n",
       " <tf.Variable 'mlpqq/dense_0qq/w_1:0' shape=(2, 3) dtype=float32_ref>,\n",
       " <tf.Variable 'mlpqq/dense_0qq/b_1:0' shape=(2, 3) dtype=float32_ref>,\n",
       " <tf.Variable 'mlpqq/dense_1qq/w_1:0' shape=(2, 3) dtype=float32_ref>,\n",
       " <tf.Variable 'mlpqq/dense_1qq/b_1:0' shape=(2, 3) dtype=float32_ref>,\n",
       " <tf.Variable 'mlpqq/dense_2qq/w_1:0' shape=(2, 3) dtype=float32_ref>,\n",
       " <tf.Variable 'mlpqq/dense_2qq/b_1:0' shape=(2, 3) dtype=float32_ref>,\n",
       " <tf.Variable 'mlpqq/dense_3qq/w_1:0' shape=(2, 3) dtype=float32_ref>,\n",
       " <tf.Variable 'mlpqq/dense_3qq/b_1:0' shape=(2, 3) dtype=float32_ref>,\n",
       " <tf.Variable 'mlpqq/dense_0qq/w_2:0' shape=(2, 3) dtype=float32_ref>,\n",
       " <tf.Variable 'mlpqq/dense_0qq/b_2:0' shape=(2, 3) dtype=float32_ref>,\n",
       " <tf.Variable 'mlpqq/dense_1qq/w_2:0' shape=(2, 3) dtype=float32_ref>,\n",
       " <tf.Variable 'mlpqq/dense_1qq/b_2:0' shape=(2, 3) dtype=float32_ref>,\n",
       " <tf.Variable 'mlpqq/dense_2qq/w_2:0' shape=(2, 3) dtype=float32_ref>,\n",
       " <tf.Variable 'mlpqq/dense_2qq/b_2:0' shape=(2, 3) dtype=float32_ref>,\n",
       " <tf.Variable 'mlpqq/dense_3qq/w_2:0' shape=(2, 3) dtype=float32_ref>,\n",
       " <tf.Variable 'mlpqq/dense_3qq/b_2:0' shape=(2, 3) dtype=float32_ref>,\n",
       " <tf.Variable 'mlpqq/dense_0qq/w_3:0' shape=(2, 3) dtype=float32_ref>,\n",
       " <tf.Variable 'mlpqq/dense_0qq/b_3:0' shape=(2, 3) dtype=float32_ref>,\n",
       " <tf.Variable 'mlpqq/dense_1qq/w_3:0' shape=(2, 3) dtype=float32_ref>,\n",
       " <tf.Variable 'mlpqq/dense_1qq/b_3:0' shape=(2, 3) dtype=float32_ref>,\n",
       " <tf.Variable 'mlpqq/dense_2qq/w_3:0' shape=(2, 3) dtype=float32_ref>,\n",
       " <tf.Variable 'mlpqq/dense_2qq/b_3:0' shape=(2, 3) dtype=float32_ref>,\n",
       " <tf.Variable 'mlpqq/dense_3qq/w_3:0' shape=(2, 3) dtype=float32_ref>,\n",
       " <tf.Variable 'mlpqq/dense_3qq/b_3:0' shape=(2, 3) dtype=float32_ref>,\n",
       " <tf.Variable 'mlpqq/dense_0qq/w_4:0' shape=(2, 3) dtype=float32_ref>,\n",
       " <tf.Variable 'mlpqq/dense_0qq/b_4:0' shape=(2, 3) dtype=float32_ref>,\n",
       " <tf.Variable 'mlpqq/dense_1qq/w_4:0' shape=(2, 3) dtype=float32_ref>,\n",
       " <tf.Variable 'mlpqq/dense_1qq/b_4:0' shape=(2, 3) dtype=float32_ref>,\n",
       " <tf.Variable 'mlpqq/dense_2qq/w_4:0' shape=(2, 3) dtype=float32_ref>,\n",
       " <tf.Variable 'mlpqq/dense_2qq/b_4:0' shape=(2, 3) dtype=float32_ref>,\n",
       " <tf.Variable 'mlpqq/dense_3qq/w_4:0' shape=(2, 3) dtype=float32_ref>,\n",
       " <tf.Variable 'mlpqq/dense_3qq/b_4:0' shape=(2, 3) dtype=float32_ref>,\n",
       " <tf.Variable 'mlp/dense_0/w:0' shape=(2, 3) dtype=float32_ref>,\n",
       " <tf.Variable 'mlp/dense_0/b:0' shape=(2, 3) dtype=float32_ref>,\n",
       " <tf.Variable 'mlp/dense_1/w:0' shape=(2, 3) dtype=float32_ref>,\n",
       " <tf.Variable 'mlp/dense_1/b:0' shape=(2, 3) dtype=float32_ref>,\n",
       " <tf.Variable 'mlp/dense_2/w:0' shape=(2, 3) dtype=float32_ref>,\n",
       " <tf.Variable 'mlp/dense_2/b:0' shape=(2, 3) dtype=float32_ref>,\n",
       " <tf.Variable 'mlp/dense_3/w:0' shape=(2, 3) dtype=float32_ref>,\n",
       " <tf.Variable 'mlp/dense_3/b:0' shape=(2, 3) dtype=float32_ref>,\n",
       " <tf.Variable 'mlp_1/dense_0/w:0' shape=(2, 3) dtype=float32_ref>,\n",
       " <tf.Variable 'mlp_1/dense_0/b:0' shape=(2, 3) dtype=float32_ref>,\n",
       " <tf.Variable 'mlp_1/dense_1/w:0' shape=(2, 3) dtype=float32_ref>,\n",
       " <tf.Variable 'mlp_1/dense_1/b:0' shape=(2, 3) dtype=float32_ref>,\n",
       " <tf.Variable 'mlp_1/dense_2/w:0' shape=(2, 3) dtype=float32_ref>,\n",
       " <tf.Variable 'mlp_1/dense_2/b:0' shape=(2, 3) dtype=float32_ref>,\n",
       " <tf.Variable 'mlp_1/dense_3/w:0' shape=(2, 3) dtype=float32_ref>,\n",
       " <tf.Variable 'mlp_1/dense_3/b:0' shape=(2, 3) dtype=float32_ref>,\n",
       " <tf.Variable 'mlp_2/dense_0/w:0' shape=(2, 3) dtype=float32_ref>,\n",
       " <tf.Variable 'mlp_2/dense_0/b:0' shape=(2, 3) dtype=float32_ref>,\n",
       " <tf.Variable 'mlp_2/dense_1/w:0' shape=(2, 3) dtype=float32_ref>,\n",
       " <tf.Variable 'mlp_2/dense_1/b:0' shape=(2, 3) dtype=float32_ref>,\n",
       " <tf.Variable 'mlp_2/dense_2/w:0' shape=(2, 3) dtype=float32_ref>,\n",
       " <tf.Variable 'mlp_2/dense_2/b:0' shape=(2, 3) dtype=float32_ref>,\n",
       " <tf.Variable 'mlp_2/dense_3/w:0' shape=(2, 3) dtype=float32_ref>,\n",
       " <tf.Variable 'mlp_2/dense_3/b:0' shape=(2, 3) dtype=float32_ref>,\n",
       " <tf.Variable 'mlp_3/dense_0/w:0' shape=(2, 3) dtype=float32_ref>,\n",
       " <tf.Variable 'mlp_3/dense_0/b:0' shape=(2, 3) dtype=float32_ref>,\n",
       " <tf.Variable 'mlp_3/dense_1/w:0' shape=(2, 3) dtype=float32_ref>,\n",
       " <tf.Variable 'mlp_3/dense_1/b:0' shape=(2, 3) dtype=float32_ref>,\n",
       " <tf.Variable 'mlp_3/dense_2/w:0' shape=(2, 3) dtype=float32_ref>,\n",
       " <tf.Variable 'mlp_3/dense_2/b:0' shape=(2, 3) dtype=float32_ref>,\n",
       " <tf.Variable 'mlp_3/dense_3/w:0' shape=(2, 3) dtype=float32_ref>,\n",
       " <tf.Variable 'mlp_3/dense_3/b:0' shape=(2, 3) dtype=float32_ref>,\n",
       " <tf.Variable 'mlp_3/Variable:0' shape=(4, 3) dtype=float32_ref>,\n",
       " <tf.Variable 'mlp_4/dense_0/w:0' shape=(2, 3) dtype=float32_ref>,\n",
       " <tf.Variable 'mlp_4/dense_0/b:0' shape=(2, 3) dtype=float32_ref>,\n",
       " <tf.Variable 'mlp_4/dense_1/w:0' shape=(2, 3) dtype=float32_ref>,\n",
       " <tf.Variable 'mlp_4/dense_1/b:0' shape=(2, 3) dtype=float32_ref>,\n",
       " <tf.Variable 'mlp_4/dense_2/w:0' shape=(2, 3) dtype=float32_ref>,\n",
       " <tf.Variable 'mlp_4/dense_2/b:0' shape=(2, 3) dtype=float32_ref>,\n",
       " <tf.Variable 'mlp_4/dense_3/w:0' shape=(2, 3) dtype=float32_ref>,\n",
       " <tf.Variable 'mlp_4/dense_3/b:0' shape=(2, 3) dtype=float32_ref>,\n",
       " <tf.Variable 'mlp_4/Variable:0' shape=(4, 3) dtype=float32_ref>,\n",
       " <tf.Variable 'mlpqq/dense_0/w:0' shape=(2, 3) dtype=float32_ref>,\n",
       " <tf.Variable 'mlpqq/dense_0/b:0' shape=(2, 3) dtype=float32_ref>,\n",
       " <tf.Variable 'mlpqq/dense_1/w:0' shape=(2, 3) dtype=float32_ref>,\n",
       " <tf.Variable 'mlpqq/dense_1/b:0' shape=(2, 3) dtype=float32_ref>,\n",
       " <tf.Variable 'mlpqq/dense_2/w:0' shape=(2, 3) dtype=float32_ref>,\n",
       " <tf.Variable 'mlpqq/dense_2/b:0' shape=(2, 3) dtype=float32_ref>,\n",
       " <tf.Variable 'mlpqq/dense_3/w:0' shape=(2, 3) dtype=float32_ref>,\n",
       " <tf.Variable 'mlpqq/dense_3/b:0' shape=(2, 3) dtype=float32_ref>,\n",
       " <tf.Variable 'mlpqq/Variable_1:0' shape=(4, 3) dtype=float32_ref>,\n",
       " <tf.Variable 'mlpqq_-_1/Variable:0' shape=(4, 3) dtype=float32_ref>,\n",
       " <tf.Variable 'mlpqq_-_2/Variable:0' shape=(4, 3) dtype=float32_ref>,\n",
       " <tf.Variable 'mlpqq_-_3/Variable:0' shape=(4, 3) dtype=float32_ref>,\n",
       " <tf.Variable 'mlpqq_-_4/Variable:0' shape=(4, 3) dtype=float32_ref>,\n",
       " <tf.Variable 'mlpqq_-_5/Variable:0' shape=(4, 3) dtype=float32_ref>,\n",
       " <tf.Variable 'w:0' shape=(2, 3) dtype=float32_ref>,\n",
       " <tf.Variable 'b:0' shape=(3,) dtype=float32_ref>,\n",
       " <tf.Variable 'w_1:0' shape=(3, 2) dtype=float32_ref>,\n",
       " <tf.Variable 'b_1:0' shape=(2,) dtype=float32_ref>,\n",
       " <tf.Variable 't:0' shape=(6,) dtype=float32_ref>,\n",
       " <tf.Variable 'w_2:0' shape=(3, 2) dtype=float32_ref>,\n",
       " <tf.Variable 'b_2:0' shape=(2,) dtype=float32_ref>,\n",
       " <tf.Variable 't_1:0' shape=(6,) dtype=float32_ref>,\n",
       " <tf.Variable 'mlpqq_-_6/Variable:0' shape=(4, 3) dtype=float32_ref>,\n",
       " <tf.Variable 'w_3:0' shape=(3, 2) dtype=float32_ref>,\n",
       " <tf.Variable 'b_3:0' shape=(2,) dtype=float32_ref>,\n",
       " <tf.Variable 't_2:0' shape=(6,) dtype=float32_ref>,\n",
       " <tf.Variable 'w_4:0' shape=(3, 2) dtype=float32_ref>,\n",
       " <tf.Variable 'b_4:0' shape=(2,) dtype=float32_ref>,\n",
       " <tf.Variable 'dddde_4/t:0' shape=(6,) dtype=float32_ref>,\n",
       " <tf.Variable 'w_5:0' shape=(3, 2) dtype=float32_ref>,\n",
       " <tf.Variable 'b_5:0' shape=(2,) dtype=float32_ref>,\n",
       " <tf.Variable 'dddde_5/t:0' shape=(6,) dtype=float32_ref>,\n",
       " <tf.Variable 'ee/w:0' shape=(2, 3) dtype=float32_ref>,\n",
       " <tf.Variable 'ee/b:0' shape=(2, 3) dtype=float32_ref>,\n",
       " <tf.Variable 'ee/Variable:0' shape=(4, 3) dtype=float32_ref>,\n",
       " <tf.Variable 'ee_1/w:0' shape=(2, 3) dtype=float32_ref>,\n",
       " <tf.Variable 'ee_1/b:0' shape=(2, 3) dtype=float32_ref>,\n",
       " <tf.Variable 'ee_1/Variable:0' shape=(4, 3) dtype=float32_ref>,\n",
       " <tf.Variable 'eeqq/w:0' shape=(2, 3) dtype=float32_ref>,\n",
       " <tf.Variable 'eeqq/b:0' shape=(2, 3) dtype=float32_ref>,\n",
       " <tf.Variable 'eeqq/Variable:0' shape=(4, 3) dtype=float32_ref>,\n",
       " <tf.Variable 'eeqq/w_1:0' shape=(2, 3) dtype=float32_ref>,\n",
       " <tf.Variable 'eeqq/b_1:0' shape=(2, 3) dtype=float32_ref>,\n",
       " <tf.Variable 'eeqq/Variable_1:0' shape=(4, 3) dtype=float32_ref>,\n",
       " <tf.Variable 'eeqq/w_2:0' shape=(2, 3) dtype=float32_ref>,\n",
       " <tf.Variable 'eeqq/b_2:0' shape=(2, 3) dtype=float32_ref>,\n",
       " <tf.Variable 'eeqq/Variable_2:0' shape=(4, 3) dtype=float32_ref>,\n",
       " <tf.Variable 'eeqq/w_3:0' shape=(2, 3) dtype=float32_ref>,\n",
       " <tf.Variable 'eeqq/b_3:0' shape=(2, 3) dtype=float32_ref>,\n",
       " <tf.Variable 'eeqq/Variable_3:0' shape=(4, 3) dtype=float32_ref>,\n",
       " <tf.Variable 'eeqq/w_4:0' shape=(2, 3) dtype=float32_ref>,\n",
       " <tf.Variable 'eeqq/b_4:0' shape=(2, 3) dtype=float32_ref>,\n",
       " <tf.Variable 'eeqq/Variable_4:0' shape=(4, 3) dtype=float32_ref>,\n",
       " <tf.Variable 'eeqq/w_5:0' shape=(2, 3) dtype=float32_ref>,\n",
       " <tf.Variable 'eeqq/b_5:0' shape=(2, 3) dtype=float32_ref>,\n",
       " <tf.Variable 'eeqq/Variable_5:0' shape=(4, 3) dtype=float32_ref>,\n",
       " <tf.Variable 'mlpqq/dense_0qq/w_5:0' shape=(2, 3) dtype=float32_ref>,\n",
       " <tf.Variable 'mlpqq/dense_0qq/b_5:0' shape=(2, 3) dtype=float32_ref>,\n",
       " <tf.Variable 'mlpqq/dense_1qq/w_5:0' shape=(2, 3) dtype=float32_ref>,\n",
       " <tf.Variable 'mlpqq/dense_1qq/b_5:0' shape=(2, 3) dtype=float32_ref>,\n",
       " <tf.Variable 'mlpqq/dense_2qq/w_5:0' shape=(2, 3) dtype=float32_ref>,\n",
       " <tf.Variable 'mlpqq/dense_2qq/b_5:0' shape=(2, 3) dtype=float32_ref>,\n",
       " <tf.Variable 'mlpqq/dense_3qq/w_5:0' shape=(2, 3) dtype=float32_ref>,\n",
       " <tf.Variable 'mlpqq/dense_3qq/b_5:0' shape=(2, 3) dtype=float32_ref>,\n",
       " <tf.Variable 'mlpqq/Variable_2:0' shape=(4, 3) dtype=float32_ref>,\n",
       " <tf.Variable 'mlpqq/dense_0qq/w_6:0' shape=(2, 3) dtype=float32_ref>,\n",
       " <tf.Variable 'mlpqq/dense_0qq/b_6:0' shape=(2, 3) dtype=float32_ref>,\n",
       " <tf.Variable 'mlpqq/dense_1qq/w_6:0' shape=(2, 3) dtype=float32_ref>,\n",
       " <tf.Variable 'mlpqq/dense_1qq/b_6:0' shape=(2, 3) dtype=float32_ref>,\n",
       " <tf.Variable 'mlpqq/dense_2qq/w_6:0' shape=(2, 3) dtype=float32_ref>,\n",
       " <tf.Variable 'mlpqq/dense_2qq/b_6:0' shape=(2, 3) dtype=float32_ref>,\n",
       " <tf.Variable 'mlpqq/dense_3qq/w_6:0' shape=(2, 3) dtype=float32_ref>,\n",
       " <tf.Variable 'mlpqq/dense_3qq/b_6:0' shape=(2, 3) dtype=float32_ref>,\n",
       " <tf.Variable 'mlpqq/Variable_3:0' shape=(4, 3) dtype=float32_ref>,\n",
       " <tf.Variable 'mlpqq/dense_0qq/w_7:0' shape=(2, 3) dtype=float32_ref>,\n",
       " <tf.Variable 'mlpqq/dense_0qq/b_7:0' shape=(2, 3) dtype=float32_ref>,\n",
       " <tf.Variable 'mlpqq/dense_1qq/w_7:0' shape=(2, 3) dtype=float32_ref>,\n",
       " <tf.Variable 'mlpqq/dense_1qq/b_7:0' shape=(2, 3) dtype=float32_ref>,\n",
       " <tf.Variable 'mlpqq/dense_2qq/w_7:0' shape=(2, 3) dtype=float32_ref>,\n",
       " <tf.Variable 'mlpqq/dense_2qq/b_7:0' shape=(2, 3) dtype=float32_ref>,\n",
       " <tf.Variable 'mlpqq/dense_3qq/w_7:0' shape=(2, 3) dtype=float32_ref>,\n",
       " <tf.Variable 'mlpqq/dense_3qq/b_7:0' shape=(2, 3) dtype=float32_ref>,\n",
       " <tf.Variable 'mlpqq/Variable_4:0' shape=(4, 3) dtype=float32_ref>,\n",
       " <tf.Variable 'mlpqq/dense_0qq/w_8:0' shape=(2, 3) dtype=float32_ref>,\n",
       " <tf.Variable 'mlpqq/dense_0qq/b_8:0' shape=(2, 3) dtype=float32_ref>,\n",
       " <tf.Variable 'mlpqq/dense_1qq/w_8:0' shape=(2, 3) dtype=float32_ref>,\n",
       " <tf.Variable 'mlpqq/dense_1qq/b_8:0' shape=(2, 3) dtype=float32_ref>,\n",
       " <tf.Variable 'mlpqq/dense_2qq/w_8:0' shape=(2, 3) dtype=float32_ref>,\n",
       " <tf.Variable 'mlpqq/dense_2qq/b_8:0' shape=(2, 3) dtype=float32_ref>,\n",
       " <tf.Variable 'mlpqq/dense_3qq/w_8:0' shape=(2, 3) dtype=float32_ref>,\n",
       " <tf.Variable 'mlpqq/dense_3qq/b_8:0' shape=(2, 3) dtype=float32_ref>,\n",
       " <tf.Variable 'mlpqq/Variable_5:0' shape=(4, 3) dtype=float32_ref>,\n",
       " <tf.Variable 'mlpqq/dense_0qq/w_9:0' shape=(2, 3) dtype=float32_ref>,\n",
       " <tf.Variable 'mlpqq/dense_0qq/b_9:0' shape=(2, 3) dtype=float32_ref>,\n",
       " <tf.Variable 'mlpqq/dense_1qq/w_9:0' shape=(2, 3) dtype=float32_ref>,\n",
       " <tf.Variable 'mlpqq/dense_1qq/b_9:0' shape=(2, 3) dtype=float32_ref>,\n",
       " <tf.Variable 'mlpqq/dense_2qq/w_9:0' shape=(2, 3) dtype=float32_ref>,\n",
       " <tf.Variable 'mlpqq/dense_2qq/b_9:0' shape=(2, 3) dtype=float32_ref>,\n",
       " <tf.Variable 'mlpqq/dense_3qq/w_9:0' shape=(2, 3) dtype=float32_ref>,\n",
       " <tf.Variable 'mlpqq/dense_3qq/b_9:0' shape=(2, 3) dtype=float32_ref>,\n",
       " <tf.Variable 'mlpqq/Variable_6:0' shape=(4, 3) dtype=float32_ref>,\n",
       " <tf.Variable 'dense_3qq/Variable_1:0' shape=(4, 3) dtype=float32_ref>,\n",
       " <tf.Variable 'ee_2/w:0' shape=(2, 3) dtype=float32_ref>,\n",
       " <tf.Variable 'ee_2/b:0' shape=(2, 3) dtype=float32_ref>,\n",
       " <tf.Variable 'ee_2/Variable:0' shape=(4, 3) dtype=float32_ref>,\n",
       " <tf.Variable 'ee_3/w:0' shape=(2, 3) dtype=float32_ref>,\n",
       " <tf.Variable 'ee_3/b:0' shape=(2, 3) dtype=float32_ref>,\n",
       " <tf.Variable 'ee_3/Variable:0' shape=(4, 3) dtype=float32_ref>,\n",
       " <tf.Variable 'mlp_5/dense_0/w:0' shape=(2, 3) dtype=float32_ref>,\n",
       " <tf.Variable 'mlp_5/dense_0/b:0' shape=(2, 3) dtype=float32_ref>,\n",
       " <tf.Variable 'mlp_5/dense_1/w:0' shape=(2, 3) dtype=float32_ref>,\n",
       " <tf.Variable 'mlp_5/dense_1/b:0' shape=(2, 3) dtype=float32_ref>,\n",
       " <tf.Variable 'mlp_5/dense_2/w:0' shape=(2, 3) dtype=float32_ref>,\n",
       " <tf.Variable 'mlp_5/dense_2/b:0' shape=(2, 3) dtype=float32_ref>,\n",
       " <tf.Variable 'mlp_5/dense_3/w:0' shape=(2, 3) dtype=float32_ref>,\n",
       " <tf.Variable 'mlp_5/dense_3/b:0' shape=(2, 3) dtype=float32_ref>,\n",
       " <tf.Variable 'mlp_5/Variable:0' shape=(4, 3) dtype=float32_ref>,\n",
       " <tf.Variable 'mlp_6/dense_0/w:0' shape=(2, 3) dtype=float32_ref>,\n",
       " <tf.Variable 'mlp_6/dense_0/b:0' shape=(2, 3) dtype=float32_ref>,\n",
       " <tf.Variable 'mlp_6/dense_1/w:0' shape=(2, 3) dtype=float32_ref>,\n",
       " <tf.Variable 'mlp_6/dense_1/b:0' shape=(2, 3) dtype=float32_ref>,\n",
       " <tf.Variable 'mlp_6/dense_2/w:0' shape=(2, 3) dtype=float32_ref>,\n",
       " <tf.Variable 'mlp_6/dense_2/b:0' shape=(2, 3) dtype=float32_ref>,\n",
       " <tf.Variable 'mlp_6/dense_3/w:0' shape=(2, 3) dtype=float32_ref>,\n",
       " <tf.Variable 'mlp_6/dense_3/b:0' shape=(2, 3) dtype=float32_ref>,\n",
       " <tf.Variable 'mlp_6/Variable:0' shape=(4, 3) dtype=float32_ref>,\n",
       " <tf.Variable 'eeqq/w_6:0' shape=(2, 3) dtype=float32_ref>,\n",
       " <tf.Variable 'eeqq/b_6:0' shape=(2, 3) dtype=float32_ref>,\n",
       " <tf.Variable 'eeqq/Variable_6:0' shape=(4, 3) dtype=float32_ref>,\n",
       " <tf.Variable 'mlpqq/dense_0qq/w_10:0' shape=(2, 3) dtype=float32_ref>,\n",
       " <tf.Variable 'mlpqq/dense_0qq/b_10:0' shape=(2, 3) dtype=float32_ref>,\n",
       " <tf.Variable 'mlpqq/dense_1qq/w_10:0' shape=(2, 3) dtype=float32_ref>,\n",
       " <tf.Variable 'mlpqq/dense_1qq/b_10:0' shape=(2, 3) dtype=float32_ref>,\n",
       " <tf.Variable 'mlpqq/dense_2qq/w_10:0' shape=(2, 3) dtype=float32_ref>,\n",
       " <tf.Variable 'mlpqq/dense_2qq/b_10:0' shape=(2, 3) dtype=float32_ref>,\n",
       " <tf.Variable 'mlpqq/dense_3qq/w_10:0' shape=(2, 3) dtype=float32_ref>,\n",
       " <tf.Variable 'mlpqq/dense_3qq/b_10:0' shape=(2, 3) dtype=float32_ref>,\n",
       " <tf.Variable 'mlpqq/Variable_7:0' shape=(4, 3) dtype=float32_ref>,\n",
       " <tf.Variable 'dense_3qq/Variable_2:0' shape=(4, 3) dtype=float32_ref>,\n",
       " <tf.Variable 'mlpqq_-_1/Variable_1:0' shape=(4, 3) dtype=float32_ref>,\n",
       " <tf.Variable 'mlpqq_-_2/Variable_1:0' shape=(4, 3) dtype=float32_ref>,\n",
       " <tf.Variable 'mlpqq_-_3/Variable_1:0' shape=(4, 3) dtype=float32_ref>,\n",
       " <tf.Variable 'mlpqq_-_4/Variable_1:0' shape=(4, 3) dtype=float32_ref>,\n",
       " <tf.Variable 'eeqq/w_7:0' shape=(2, 3) dtype=float32_ref>,\n",
       " <tf.Variable 'eeqq/b_7:0' shape=(2, 3) dtype=float32_ref>,\n",
       " <tf.Variable 'eeqq/Variable_7:0' shape=(4, 3) dtype=float32_ref>,\n",
       " <tf.Variable 'eeqq_-_1/Variable:0' shape=(4, 3) dtype=float32_ref>,\n",
       " <tf.Variable 'eeqq_-_2/Variable:0' shape=(4, 3) dtype=float32_ref>,\n",
       " <tf.Variable 'eeqq_-_3/Variable:0' shape=(4, 3) dtype=float32_ref>,\n",
       " <tf.Variable 'mlpqq/dense_0qq/w_11:0' shape=(2, 3) dtype=float32_ref>,\n",
       " <tf.Variable 'mlpqq/dense_0qq/b_11:0' shape=(2, 3) dtype=float32_ref>,\n",
       " <tf.Variable 'mlpqq/dense_1qq/w_11:0' shape=(2, 3) dtype=float32_ref>,\n",
       " <tf.Variable 'mlpqq/dense_1qq/b_11:0' shape=(2, 3) dtype=float32_ref>,\n",
       " <tf.Variable 'mlpqq/Variable_8:0' shape=(4, 3) dtype=float32_ref>,\n",
       " <tf.Variable 'mlpqq_-_1/Variable_2:0' shape=(4, 3) dtype=float32_ref>,\n",
       " <tf.Variable 'w_6:0' shape=(3, 2) dtype=float32_ref>,\n",
       " <tf.Variable 'b_6:0' shape=(2,) dtype=float32_ref>,\n",
       " <tf.Variable 'dddde_6/t:0' shape=(6,) dtype=float32_ref>,\n",
       " <tf.Variable 'w_7:0' shape=(3, 2) dtype=float32_ref>,\n",
       " <tf.Variable 'b_7:0' shape=(2,) dtype=float32_ref>,\n",
       " <tf.Variable 'dddde_7/t:0' shape=(6,) dtype=float32_ref>,\n",
       " <tf.Variable 'dddde_7/tt:0' shape=(6,) dtype=float32_ref>,\n",
       " <tf.Variable 'w_8:0' shape=(3, 2) dtype=float32_ref>,\n",
       " <tf.Variable 'b_8:0' shape=(2,) dtype=float32_ref>,\n",
       " <tf.Variable 'dddde_8/t:0' shape=(6,) dtype=float32_ref>,\n",
       " <tf.Variable 'dddde_8/tt:0' shape=(6,) dtype=float32_ref>,\n",
       " <tf.Variable 'w_9:0' shape=(3, 2) dtype=float32_ref>,\n",
       " <tf.Variable 'b_9:0' shape=(2,) dtype=float32_ref>,\n",
       " <tf.Variable 'dddde_9/t:0' shape=(6,) dtype=float32_ref>,\n",
       " <tf.Variable 'dddde_9/tt:0' shape=(6,) dtype=float32_ref>,\n",
       " <tf.Variable 'w_10:0' shape=(3, 2) dtype=float32_ref>,\n",
       " <tf.Variable 'b_10:0' shape=(2,) dtype=float32_ref>,\n",
       " <tf.Variable 'dddde_10/t:0' shape=(6,) dtype=float32_ref>,\n",
       " <tf.Variable 'dddde_10/tt:0' shape=(6,) dtype=float32_ref>,\n",
       " <tf.Variable 'dddde_10/t_1:0' shape=(6,) dtype=float32_ref>,\n",
       " <tf.Variable 'dddde_10/tt_1:0' shape=(6,) dtype=float32_ref>,\n",
       " <tf.Variable 'w_11:0' shape=(3, 2) dtype=float32_ref>,\n",
       " <tf.Variable 'b_11:0' shape=(2,) dtype=float32_ref>,\n",
       " <tf.Variable 'dddde_11/t:0' shape=(6,) dtype=float32_ref>,\n",
       " <tf.Variable 'dddde_11/tt:0' shape=(6,) dtype=float32_ref>,\n",
       " <tf.Variable 'dddde_11/t_1:0' shape=(6,) dtype=float32_ref>,\n",
       " <tf.Variable 'dddde_11/tt_1:0' shape=(6,) dtype=float32_ref>,\n",
       " <tf.Variable 'eeqq/w_8:0' shape=(2, 3) dtype=float32_ref>,\n",
       " <tf.Variable 'eeqq/b_8:0' shape=(2, 3) dtype=float32_ref>,\n",
       " <tf.Variable 'eeqq/Variable_8:0' shape=(4, 3) dtype=float32_ref>,\n",
       " <tf.Variable 'mlpqq/dense_0qq/w_12:0' shape=(2, 3) dtype=float32_ref>,\n",
       " <tf.Variable 'mlpqq/dense_0qq/b_12:0' shape=(2, 3) dtype=float32_ref>,\n",
       " <tf.Variable 'mlpqq/dense_1qq/w_12:0' shape=(2, 3) dtype=float32_ref>,\n",
       " <tf.Variable 'mlpqq/dense_1qq/b_12:0' shape=(2, 3) dtype=float32_ref>,\n",
       " <tf.Variable 'mlpqq/Variable_9:0' shape=(4, 3) dtype=float32_ref>,\n",
       " <tf.Variable 'dense_1qq/Variable:0' shape=(4, 3) dtype=float32_ref>,\n",
       " <tf.Variable 'eeqq/w_9:0' shape=(2, 3) dtype=float32_ref>,\n",
       " <tf.Variable 'eeqq/b_9:0' shape=(2, 3) dtype=float32_ref>,\n",
       " <tf.Variable 'eeqq/Variable_9:0' shape=(4, 3) dtype=float32_ref>,\n",
       " <tf.Variable 'mlpqq/dense_0qq/w_13:0' shape=(2, 3) dtype=float32_ref>,\n",
       " <tf.Variable 'mlpqq/dense_0qq/b_13:0' shape=(2, 3) dtype=float32_ref>,\n",
       " <tf.Variable 'mlpqq/dense_1qq/w_13:0' shape=(2, 3) dtype=float32_ref>,\n",
       " <tf.Variable 'mlpqq/dense_1qq/b_13:0' shape=(2, 3) dtype=float32_ref>,\n",
       " <tf.Variable 'mlpqq/Variable_10:0' shape=(4, 3) dtype=float32_ref>,\n",
       " <tf.Variable 'dense_1qq/Variable_1:0' shape=(4, 3) dtype=float32_ref>,\n",
       " <tf.Variable 'mlpqq_-_1/Variable_3:0' shape=(4, 3) dtype=float32_ref>,\n",
       " <tf.Variable 'mlpqq_-_2/Variable_2:0' shape=(4, 3) dtype=float32_ref>,\n",
       " <tf.Variable 'mlpqq_-_3/Variable_2:0' shape=(4, 3) dtype=float32_ref>,\n",
       " <tf.Variable 'eeqq/w_10:0' shape=(2, 3) dtype=float32_ref>,\n",
       " <tf.Variable 'eeqq/b_10:0' shape=(2, 3) dtype=float32_ref>,\n",
       " <tf.Variable 'eeqq/Variable_10:0' shape=(4, 3) dtype=float32_ref>,\n",
       " <tf.Variable 'mlpqq/dense_0qq/w_14:0' shape=(2, 3) dtype=float32_ref>,\n",
       " <tf.Variable 'mlpqq/dense_0qq/b_14:0' shape=(2, 3) dtype=float32_ref>,\n",
       " <tf.Variable 'mlpqq/dense_1qq/w_14:0' shape=(2, 3) dtype=float32_ref>,\n",
       " <tf.Variable 'mlpqq/dense_1qq/b_14:0' shape=(2, 3) dtype=float32_ref>,\n",
       " <tf.Variable 'mlpqq/Variable_11:0' shape=(4, 3) dtype=float32_ref>,\n",
       " <tf.Variable 'dense_1qq/Variable_2:0' shape=(4, 3) dtype=float32_ref>]"
      ]
     },
     "execution_count": 245,
     "metadata": {},
     "output_type": "execute_result"
    }
   ],
   "source": [
    "tf.global_variables()"
   ]
  },
  {
   "cell_type": "code",
   "execution_count": 246,
   "metadata": {},
   "outputs": [
    {
     "name": "stdout",
     "output_type": "stream",
     "text": [
      "inner 2 mlpqq_-_1/  mlpqq_-_1\n",
      "mlpqq_-_1\n"
     ]
    },
    {
     "data": {
      "text/plain": [
       "1"
      ]
     },
     "execution_count": 246,
     "metadata": {},
     "output_type": "execute_result"
    }
   ],
   "source": [
    "a()"
   ]
  },
  {
   "cell_type": "code",
   "execution_count": 247,
   "metadata": {},
   "outputs": [
    {
     "name": "stdout",
     "output_type": "stream",
     "text": [
      "get_updates {<__main__.Dense object at 0x0000018EE82CFEB8>}\n",
      "======= mlpqq\n",
      "ret: [] key updates\n",
      "attr __call__\n",
      "attr __class__\n",
      "attr __delattr__\n",
      "attr __dict__\n",
      "attr __dir__\n",
      "attr __doc__\n",
      "attr __eq__\n",
      "attr __format__\n",
      "attr __ge__\n",
      "attr __getattribute__\n",
      "attr __gt__\n",
      "attr __hash__\n",
      "attr __init__\n",
      "attr __init_subclass__\n",
      "attr __le__\n",
      "attr __lt__\n",
      "attr __module__\n",
      "attr __ne__\n",
      "attr __new__\n",
      "attr __reduce__\n",
      "attr __reduce_ex__\n",
      "attr __repr__\n",
      "attr __setattr__\n",
      "attr __sizeof__\n",
      "attr __str__\n",
      "attr __subclasshook__\n",
      "attr __weakref__\n",
      "attr _get_recursive_list\n",
      "attr _ns_call_count\n",
      "attr get_updates\n",
      "attr layers\n",
      "======= dense_0qq\n",
      "ret: [] key updates\n",
      "attr __call__\n",
      "attr __class__\n",
      "attr __delattr__\n",
      "attr __dict__\n",
      "attr __dir__\n",
      "attr __doc__\n",
      "attr __eq__\n",
      "attr __format__\n",
      "attr __ge__\n",
      "attr __getattribute__\n",
      "attr __gt__\n",
      "attr __hash__\n",
      "attr __init__\n",
      "attr __init_subclass__\n",
      "attr __le__\n",
      "attr __lt__\n",
      "attr __module__\n",
      "attr __ne__\n",
      "attr __new__\n",
      "attr __reduce__\n",
      "attr __reduce_ex__\n",
      "attr __repr__\n",
      "attr __setattr__\n",
      "attr __sizeof__\n",
      "attr __str__\n",
      "attr __subclasshook__\n",
      "attr __weakref__\n",
      "attr _get_recursive_list\n",
      "attr _ns_call_count\n",
      "attr b\n",
      "attr get_updates\n",
      "attr name\n",
      "attr name_scope\n",
      "attr parent_name\n",
      "attr registory\n",
      "attr restore_variables\n",
      "attr summaries\n",
      "attr total_name\n",
      "attr updates\n",
      "attr w\n",
      "attr with_name_scope\n",
      "======= dense_1qq\n",
      "ret: [] key updates\n",
      "attr __call__\n",
      "attr __class__\n",
      "attr __delattr__\n",
      "attr __dict__\n",
      "attr __dir__\n",
      "attr __doc__\n",
      "attr __eq__\n",
      "attr __format__\n",
      "attr __ge__\n",
      "attr __getattribute__\n",
      "attr __gt__\n",
      "attr __hash__\n",
      "attr __init__\n",
      "attr __init_subclass__\n",
      "attr __le__\n",
      "attr __lt__\n",
      "attr __module__\n",
      "attr __ne__\n",
      "attr __new__\n",
      "attr __reduce__\n",
      "attr __reduce_ex__\n",
      "attr __repr__\n",
      "attr __setattr__\n",
      "attr __sizeof__\n",
      "attr __str__\n",
      "attr __subclasshook__\n",
      "attr __weakref__\n",
      "attr _get_recursive_list\n",
      "attr _ns_call_count\n",
      "attr b\n",
      "attr de\n",
      "attr get_updates\n",
      "attr name\n",
      "attr name_scope\n",
      "attr parent_name\n",
      "attr registory\n",
      "attr restore_variables\n",
      "attr summaries\n",
      "attr total_name\n",
      "attr updates\n",
      "attr w\n",
      "attr with_name_scope\n",
      "attr ml\n",
      "attr name\n",
      "attr name_scope\n",
      "attr parent_name\n",
      "attr registory\n",
      "attr restore_variables\n",
      "attr summaries\n",
      "attr total_name\n",
      "attr updates\n",
      "attr with_name_scope\n"
     ]
    },
    {
     "data": {
      "text/plain": [
       "[]"
      ]
     },
     "execution_count": 247,
     "metadata": {},
     "output_type": "execute_result"
    }
   ],
   "source": [
    "a.get_updates(set([e]))"
   ]
  },
  {
   "cell_type": "code",
   "execution_count": 171,
   "metadata": {},
   "outputs": [
    {
     "data": {
      "text/plain": [
       "[]"
      ]
     },
     "execution_count": 171,
     "metadata": {},
     "output_type": "execute_result"
    }
   ],
   "source": [
    "a.updates"
   ]
  },
  {
   "cell_type": "code",
   "execution_count": 199,
   "metadata": {},
   "outputs": [],
   "source": [
    "class De(tf.Module):\n",
    "    def __init__(self, in_features, out_features, name=None):\n",
    "        super(De, self).__init__(name=name)\n",
    "        self.w = tf.Variable(\n",
    "            tf.random.normal([in_features, out_features]), name='w')\n",
    "        self.b = tf.Variable(tf.zeros([out_features]), name='b')\n",
    "    @tf.Module.with_name_scope\n",
    "    def __call__(self, x):\n",
    "        y = tf.matmul(x, self.w) + self.b\n",
    "        self.t = tf.Variable(tf.zeros([6]), name='t',trainable=False)\n",
    "        self.tt = tf.Variable(tf.zeros([6]), name='tt')\n",
    "        return tf.nn.relu(y)"
   ]
  },
  {
   "cell_type": "code",
   "execution_count": 200,
   "metadata": {},
   "outputs": [],
   "source": [
    "d = De(3,2,'dddde')"
   ]
  },
  {
   "cell_type": "code",
   "execution_count": 201,
   "metadata": {},
   "outputs": [
    {
     "data": {
      "text/plain": [
       "<tf.Tensor 'dddde_11/Relu:0' shape=(1, 2) dtype=float32>"
      ]
     },
     "execution_count": 201,
     "metadata": {},
     "output_type": "execute_result"
    }
   ],
   "source": [
    "d(tf.ones([1,3\n",
    "          ]))"
   ]
  },
  {
   "cell_type": "code",
   "execution_count": 202,
   "metadata": {},
   "outputs": [
    {
     "data": {
      "text/plain": [
       "<__main__.De at 0x18ee8250390>"
      ]
     },
     "execution_count": 202,
     "metadata": {},
     "output_type": "execute_result"
    }
   ],
   "source": [
    "d"
   ]
  },
  {
   "cell_type": "code",
   "execution_count": 203,
   "metadata": {},
   "outputs": [
    {
     "data": {
      "text/plain": [
       "'dddde'"
      ]
     },
     "execution_count": 203,
     "metadata": {},
     "output_type": "execute_result"
    }
   ],
   "source": [
    "d.name"
   ]
  },
  {
   "cell_type": "code",
   "execution_count": 204,
   "metadata": {},
   "outputs": [
    {
     "data": {
      "text/plain": [
       "(<tf.Variable 'b_11:0' shape=(2,) dtype=float32_ref>,\n",
       " <tf.Variable 'dddde_11/t:0' shape=(6,) dtype=float32_ref>,\n",
       " <tf.Variable 'dddde_11/tt:0' shape=(6,) dtype=float32_ref>,\n",
       " <tf.Variable 'w_11:0' shape=(3, 2) dtype=float32_ref>)"
      ]
     },
     "execution_count": 204,
     "metadata": {},
     "output_type": "execute_result"
    }
   ],
   "source": [
    "d.variables"
   ]
  },
  {
   "cell_type": "code",
   "execution_count": 205,
   "metadata": {},
   "outputs": [
    {
     "data": {
      "text/plain": [
       "<tf.Tensor 'dddde_11/Relu_1:0' shape=(2, 2) dtype=float32>"
      ]
     },
     "execution_count": 205,
     "metadata": {},
     "output_type": "execute_result"
    }
   ],
   "source": [
    "d(tf.ones([2,3]))"
   ]
  },
  {
   "cell_type": "code",
   "execution_count": 206,
   "metadata": {},
   "outputs": [
    {
     "data": {
      "text/plain": [
       "(<tf.Variable 'b_11:0' shape=(2,) dtype=float32_ref>,\n",
       " <tf.Variable 'dddde_11/t_1:0' shape=(6,) dtype=float32_ref>,\n",
       " <tf.Variable 'dddde_11/tt_1:0' shape=(6,) dtype=float32_ref>,\n",
       " <tf.Variable 'w_11:0' shape=(3, 2) dtype=float32_ref>)"
      ]
     },
     "execution_count": 206,
     "metadata": {},
     "output_type": "execute_result"
    }
   ],
   "source": [
    "d.variables"
   ]
  },
  {
   "cell_type": "code",
   "execution_count": 208,
   "metadata": {},
   "outputs": [
    {
     "data": {
      "text/plain": [
       "(<tf.Variable 'b_11:0' shape=(2,) dtype=float32_ref>,\n",
       " <tf.Variable 'dddde_11/tt_1:0' shape=(6,) dtype=float32_ref>,\n",
       " <tf.Variable 'w_11:0' shape=(3, 2) dtype=float32_ref>)"
      ]
     },
     "execution_count": 208,
     "metadata": {},
     "output_type": "execute_result"
    }
   ],
   "source": [
    "d.trainable_variables"
   ]
  },
  {
   "cell_type": "code",
   "execution_count": null,
   "metadata": {},
   "outputs": [],
   "source": []
  }
 ],
 "metadata": {
  "kernelspec": {
   "display_name": "Python 3",
   "language": "python",
   "name": "python3"
  },
  "language_info": {
   "codemirror_mode": {
    "name": "ipython",
    "version": 3
   },
   "file_extension": ".py",
   "mimetype": "text/x-python",
   "name": "python",
   "nbconvert_exporter": "python",
   "pygments_lexer": "ipython3",
   "version": "3.6.10"
  }
 },
 "nbformat": 4,
 "nbformat_minor": 4
}
