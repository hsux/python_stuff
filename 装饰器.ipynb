{
 "cells": [
  {
   "cell_type": "code",
   "execution_count": 1,
   "metadata": {},
   "outputs": [
    {
     "name": "stdout",
     "output_type": "stream",
     "text": [
      "a_function_requiring_decoration\n"
     ]
    }
   ],
   "source": [
    "from functools import wraps\n",
    " \n",
    "def a_new_decorator(a_func):\n",
    "    @wraps(a_func)\n",
    "    def wrapTheFunction():\n",
    "        print(\"I am doing some boring work before executing a_func()\")\n",
    "        a_func()\n",
    "        print(\"I am doing some boring work after executing a_func()\")\n",
    "    return wrapTheFunction\n",
    " \n",
    "@a_new_decorator\n",
    "def a_function_requiring_decoration():\n",
    "    \"\"\"Hey yo! Decorate me!\"\"\"\n",
    "    print(\"I am the function which needs some decoration to \"\n",
    "          \"remove my foul smell\")\n",
    " \n",
    "print(a_function_requiring_decoration.__name__)"
   ]
  },
  {
   "cell_type": "code",
   "execution_count": 2,
   "metadata": {},
   "outputs": [
    {
     "name": "stdout",
     "output_type": "stream",
     "text": [
      "I am doing some boring work before executing a_func()\n",
      "I am the function which needs some decoration to remove my foul smell\n",
      "I am doing some boring work after executing a_func()\n"
     ]
    }
   ],
   "source": [
    "a_function_requiring_decoration()"
   ]
  },
  {
   "cell_type": "code",
   "execution_count": 3,
   "metadata": {},
   "outputs": [
    {
     "name": "stdout",
     "output_type": "stream",
     "text": [
      "Function is running\n",
      "Function will not run\n"
     ]
    }
   ],
   "source": [
    "def decorator_name(f):\n",
    "    @wraps(f)\n",
    "    def decorated(*args, **kwargs):\n",
    "        if not can_run:\n",
    "            return \"Function will not run\"\n",
    "        return f(*args, **kwargs)\n",
    "    return decorated\n",
    " \n",
    "@decorator_name  # 包一层的直接函数名\n",
    "def func():\n",
    "    return(\"Function is running\")\n",
    " \n",
    "can_run = True\n",
    "print(func())\n",
    "# Output: Function is running\n",
    " \n",
    "can_run = False\n",
    "print(func())\n",
    "# Output: Function will not run"
   ]
  },
  {
   "cell_type": "code",
   "execution_count": 4,
   "metadata": {},
   "outputs": [
    {
     "name": "stdout",
     "output_type": "stream",
     "text": [
      "myfunc1 was called\n",
      "myfunc2 was called\n"
     ]
    }
   ],
   "source": [
    "def logit(logfile='out.log'):\n",
    "    def logging_decorator(func):\n",
    "        @wraps(func)\n",
    "        def wrapped_function(*args, **kwargs):\n",
    "            log_string = func.__name__ + \" was called\"\n",
    "            print(log_string)\n",
    "            # 打开logfile，并写入内容\n",
    "            with open(logfile, 'a') as opened_file:\n",
    "                # 现在将日志打到指定的logfile\n",
    "                opened_file.write(log_string + '\\n')\n",
    "            return func(*args, **kwargs)\n",
    "        return wrapped_function\n",
    "    return logging_decorator  # 返回装饰器\n",
    " \n",
    "@logit()  # 包两层的要调用下\n",
    "def myfunc1():\n",
    "    pass\n",
    " \n",
    "myfunc1()\n",
    "# Output: myfunc1 was called\n",
    "# 现在一个叫做 out.log 的文件出现了，里面的内容就是上面的字符串\n",
    " \n",
    "@logit(logfile='func2.log')\n",
    "def myfunc2():\n",
    "    pass\n",
    " \n",
    "myfunc2()\n",
    "# Output: myfunc2 was called\n",
    "# 现在一个叫做 func2.log 的文件出现了，里面的内容就是上面的字符串"
   ]
  },
  {
   "cell_type": "code",
   "execution_count": 5,
   "metadata": {},
   "outputs": [],
   "source": [
    "import tensorflow as tf"
   ]
  },
  {
   "cell_type": "code",
   "execution_count": 13,
   "metadata": {},
   "outputs": [],
   "source": [
    "import functools"
   ]
  },
  {
   "cell_type": "code",
   "execution_count": 6,
   "metadata": {},
   "outputs": [
    {
     "data": {
      "text/plain": [
       "'1.15.0'"
      ]
     },
     "execution_count": 6,
     "metadata": {},
     "output_type": "execute_result"
    }
   ],
   "source": [
    "tf.__version__"
   ]
  },
  {
   "cell_type": "code",
   "execution_count": 7,
   "metadata": {},
   "outputs": [
    {
     "data": {
      "text/plain": [
       "''"
      ]
     },
     "execution_count": 7,
     "metadata": {},
     "output_type": "execute_result"
    }
   ],
   "source": [
    "tf.get_default_graph().get_name_scope()"
   ]
  },
  {
   "cell_type": "code",
   "execution_count": 11,
   "metadata": {},
   "outputs": [
    {
     "name": "stdout",
     "output_type": "stream",
     "text": [
      "V2_1\n",
      "V1_1/a2:0\n",
      "V2_1/a2:0\n"
     ]
    }
   ],
   "source": [
    "with tf.name_scope('V1'):  \n",
    "    # a1 = tf.get_variable(name='a1', shape=[1], initializer=tf.constant_initializer(1))  \n",
    "    a2 = tf.Variable(tf.random_normal(shape=[2,3], mean=0, stddev=1), name='a2')  \n",
    "with tf.name_scope('V2'):  \n",
    "    # a3 = tf.get_variable(name='a1', shape=[1], initializer=tf.constant_initializer(1))  \n",
    "    a4 = tf.Variable(tf.random_normal(shape=[2,3], mean=0, stddev=1), name='a2')  \n",
    "    print(tf.get_default_graph().get_name_scope())\n",
    "    \n",
    "with tf.Session() as sess:  \n",
    "    sess.run(tf.initialize_all_variables())  \n",
    "    # print a1.name  \n",
    "    print(a2.name)  \n",
    "    # print a3.name  \n",
    "    print(a4.name)  "
   ]
  },
  {
   "cell_type": "code",
   "execution_count": 10,
   "metadata": {},
   "outputs": [
    {
     "data": {
      "text/plain": [
       "''"
      ]
     },
     "execution_count": 10,
     "metadata": {},
     "output_type": "execute_result"
    }
   ],
   "source": [
    "tf.get_default_graph().get_name_scope()"
   ]
  },
  {
   "cell_type": "code",
   "execution_count": 12,
   "metadata": {},
   "outputs": [],
   "source": [
    "class Meta(type):  \n",
    "   \n",
    "    record_cls = []\n",
    "\n",
    "    def __new__(cls, name, bases, attrs):\n",
    "        new_cls = type.__new__(cls, name, bases, attrs)\n",
    "        Meta.record_cls.append(new_cls)\n",
    "        return new_cls\n",
    "    \n",
    "    def __init__(cls, name, bases, namespace, **kwargs):\n",
    "        super().__init__(name, bases, namespace, **kwargs)\n",
    "        if not hasattr(cls, 'registory'):  # build only in the first subclass\n",
    "            # this is the base class\n",
    "            cls.registory = {}\n",
    "        else:\n",
    "            # this is the subclass\n",
    "            cls.registory[name.lower()] = cls\n",
    "            \n",
    "    def create(cls, class_name, *args, **kwargs):\n",
    "        return cls.registory[class_name.lower()](*args, **kwargs)\n"
   ]
  },
  {
   "cell_type": "code",
   "execution_count": 79,
   "metadata": {},
   "outputs": [],
   "source": [
    "class Module(object, metaclass=Meta):\n",
    "    \n",
    "    def __init__(self, name, **kwargs):\n",
    "        self.name = name+'qq'\n",
    "        \n",
    "        self.parent_name = tf.get_default_graph().get_name_scope()\n",
    "        if self.parent_name:\n",
    "            self.total_name = self.parent_name + '/' + self.name + '/'\n",
    "        else:\n",
    "            self.total_name = self.name + '/'\n",
    "        self._ns_call_count = 0\n",
    "\n",
    "        self.name_scope = tf.name_scope(self.total_name)\n",
    "        self.restore_variables = {}\n",
    "        self.summaries = []\n",
    "        self.updates = []\n",
    "        print('====',self.name,name,self._ns_call_count)\n",
    "\n",
    "    @staticmethod\n",
    "    def with_name_scope(func):\n",
    "        \n",
    "        @functools.wraps(func)\n",
    "        def inner(self, *args, **kwargs):\n",
    "            parent_name = tf.get_default_graph().get_name_scope()\n",
    "            name = self.name + '_-_' + str(self._ns_call_count) if self._ns_call_count else self.name\n",
    "            if parent_name:\n",
    "                total_name = parent_name + '/' + name + '/'\n",
    "            else:\n",
    "                total_name = name + '/'\n",
    "            self._ns_call_count += 1\n",
    "            print('inner',self._ns_call_count,total_name,parent_name,name)\n",
    "            with tf.name_scope(total_name):\n",
    "                return func(self, *args, **kwargs)\n",
    "\n",
    "        return inner\n",
    "\n",
    "    def _get_recursive_list(self, key, seen):\n",
    "        ret = []\n",
    "\n",
    "        if self in seen:\n",
    "            return ret\n",
    "        seen.add(self)\n",
    "        ret.extend(getattr(self, key))\n",
    "\n",
    "        def _extend(val):\n",
    "            if isinstance(val, Module):\n",
    "                ret.extend(val._get_recursive_list(key, seen))\n",
    "            if isinstance(val, tf.keras.layers.Layer):\n",
    "                if not (val in seen):\n",
    "                    ret.extend(getattr(val, key))\n",
    "                seen.add(val)\n",
    "\n",
    "        for attr in dir(self):\n",
    "            val = getattr(self, attr)\n",
    "            if isinstance(val, list):\n",
    "                for v in val:\n",
    "                    _extend(v)\n",
    "            elif isinstance(val, dict):\n",
    "                for k, v in val.items():\n",
    "                    _extend(v)\n",
    "            else:\n",
    "                _extend(val)\n",
    "\n",
    "        return ret\n",
    "\n",
    "    def get_updates(self, seen=None):\n",
    "        if not isinstance(seen, set):\n",
    "            seen = set()\n",
    "        return self._get_recursive_list('updates', seen)"
   ]
  },
  {
   "cell_type": "code",
   "execution_count": 80,
   "metadata": {},
   "outputs": [],
   "source": [
    "class Dense(Module):\n",
    "\n",
    "    def __init__(self, name,):\n",
    "        super(Dense, self).__init__(name)\n",
    "        with self.name_scope:\n",
    "            print('+',name,tf.get_default_graph().get_name_scope(),self.name_scope)\n",
    "            self.w = tf.Variable(\n",
    "                tf.random_normal(shape=[2,3], mean=0, stddev=1),\n",
    "                name='w', \n",
    "                dtype=tf.float32)\n",
    "            self.b = tf.Variable(\n",
    "                tf.random_normal(shape=[2,3], mean=0, stddev=1),\n",
    "                name='b',\n",
    "                dtype=tf.float32)\n",
    "\n",
    "    @Module.with_name_scope\n",
    "    def __call__(self, training=False):\n",
    "        print(tf.get_default_graph().get_name_scope())\n",
    "        return training"
   ]
  },
  {
   "cell_type": "code",
   "execution_count": 81,
   "metadata": {},
   "outputs": [],
   "source": [
    "class MLP(Module):\n",
    "\n",
    "    def __init__(self, name):\n",
    "        super(MLP, self).__init__(name)\n",
    "        with self.name_scope:\n",
    "            print('*',name,tf.get_default_graph().get_name_scope(),self.name_scope)\n",
    "            self.layers = []\n",
    "            for i in range(4):\n",
    "                self.layers.append(\n",
    "                    Dense(\n",
    "                        'dense_%d' % (i,),\n",
    "                        )\n",
    "                    )\n",
    "\n",
    "    @Module.with_name_scope\n",
    "    def __call__(self,training=False):\n",
    "        print(tf.get_default_graph().get_name_scope())\n",
    "        return 1"
   ]
  },
  {
   "cell_type": "code",
   "execution_count": 82,
   "metadata": {},
   "outputs": [
    {
     "name": "stdout",
     "output_type": "stream",
     "text": [
      "==== mlpqq mlp 0\n",
      "* mlp mlpqq <tensorflow.python.framework.ops.name_scope object at 0x0000029EFD86BA90>\n",
      "==== dense_0qq dense_0 0\n",
      "+ dense_0 mlpqq/dense_0qq <tensorflow.python.framework.ops.name_scope object at 0x0000029EFD86B940>\n",
      "==== dense_1qq dense_1 0\n",
      "+ dense_1 mlpqq/dense_1qq <tensorflow.python.framework.ops.name_scope object at 0x0000029EFD86B320>\n",
      "==== dense_2qq dense_2 0\n",
      "+ dense_2 mlpqq/dense_2qq <tensorflow.python.framework.ops.name_scope object at 0x0000029EFD889898>\n",
      "==== dense_3qq dense_3 0\n",
      "+ dense_3 mlpqq/dense_3qq <tensorflow.python.framework.ops.name_scope object at 0x0000029EFD87CE48>\n"
     ]
    }
   ],
   "source": [
    "a = MLP('mlp')"
   ]
  },
  {
   "cell_type": "code",
   "execution_count": 83,
   "metadata": {},
   "outputs": [
    {
     "name": "stdout",
     "output_type": "stream",
     "text": [
      "inner 1 mlpqq/  mlpqq\n",
      "mlpqq\n"
     ]
    },
    {
     "data": {
      "text/plain": [
       "1"
      ]
     },
     "execution_count": 83,
     "metadata": {},
     "output_type": "execute_result"
    }
   ],
   "source": [
    "a()\n"
   ]
  },
  {
   "cell_type": "code",
   "execution_count": 84,
   "metadata": {},
   "outputs": [
    {
     "name": "stdout",
     "output_type": "stream",
     "text": [
      "inner 1 dense_3qq/  dense_3qq\n",
      "dense_3qq\n"
     ]
    },
    {
     "data": {
      "text/plain": [
       "False"
      ]
     },
     "execution_count": 84,
     "metadata": {},
     "output_type": "execute_result"
    }
   ],
   "source": [
    "a.layers[3]()"
   ]
  },
  {
   "cell_type": "code",
   "execution_count": 21,
   "metadata": {},
   "outputs": [
    {
     "data": {
      "text/plain": [
       "'mlp'"
      ]
     },
     "execution_count": 21,
     "metadata": {},
     "output_type": "execute_result"
    }
   ],
   "source": [
    "a.name"
   ]
  },
  {
   "cell_type": "code",
   "execution_count": 35,
   "metadata": {},
   "outputs": [
    {
     "data": {
      "text/plain": [
       "[<tf.Variable 'V1/a2:0' shape=(2, 3) dtype=float32_ref>,\n",
       " <tf.Variable 'V2/a2:0' shape=(2, 3) dtype=float32_ref>,\n",
       " <tf.Variable 'V1_1/a2:0' shape=(2, 3) dtype=float32_ref>,\n",
       " <tf.Variable 'V2_1/a2:0' shape=(2, 3) dtype=float32_ref>,\n",
       " <tf.Variable 'mlp/dense_0/w:0' shape=(2, 3) dtype=float32_ref>,\n",
       " <tf.Variable 'mlp/dense_0/b:0' shape=(2, 3) dtype=float32_ref>,\n",
       " <tf.Variable 'mlp/dense_1/w:0' shape=(2, 3) dtype=float32_ref>,\n",
       " <tf.Variable 'mlp/dense_1/b:0' shape=(2, 3) dtype=float32_ref>,\n",
       " <tf.Variable 'mlp/dense_2/w:0' shape=(2, 3) dtype=float32_ref>,\n",
       " <tf.Variable 'mlp/dense_2/b:0' shape=(2, 3) dtype=float32_ref>,\n",
       " <tf.Variable 'mlp/dense_3/w:0' shape=(2, 3) dtype=float32_ref>,\n",
       " <tf.Variable 'mlp/dense_3/b:0' shape=(2, 3) dtype=float32_ref>,\n",
       " <tf.Variable 'mlpqq/dense_0qq/w:0' shape=(2, 3) dtype=float32_ref>,\n",
       " <tf.Variable 'mlpqq/dense_0qq/b:0' shape=(2, 3) dtype=float32_ref>,\n",
       " <tf.Variable 'mlpqq/dense_1qq/w:0' shape=(2, 3) dtype=float32_ref>,\n",
       " <tf.Variable 'mlpqq/dense_1qq/b:0' shape=(2, 3) dtype=float32_ref>,\n",
       " <tf.Variable 'mlpqq/dense_2qq/w:0' shape=(2, 3) dtype=float32_ref>,\n",
       " <tf.Variable 'mlpqq/dense_2qq/b:0' shape=(2, 3) dtype=float32_ref>,\n",
       " <tf.Variable 'mlpqq/dense_3qq/w:0' shape=(2, 3) dtype=float32_ref>,\n",
       " <tf.Variable 'mlpqq/dense_3qq/b:0' shape=(2, 3) dtype=float32_ref>]"
      ]
     },
     "execution_count": 35,
     "metadata": {},
     "output_type": "execute_result"
    }
   ],
   "source": [
    "tf.global_variables()"
   ]
  },
  {
   "cell_type": "code",
   "execution_count": 32,
   "metadata": {},
   "outputs": [
    {
     "name": "stdout",
     "output_type": "stream",
     "text": [
      "mlpqq\n"
     ]
    },
    {
     "data": {
      "text/plain": [
       "1"
      ]
     },
     "execution_count": 32,
     "metadata": {},
     "output_type": "execute_result"
    }
   ],
   "source": [
    "a()"
   ]
  },
  {
   "cell_type": "code",
   "execution_count": null,
   "metadata": {},
   "outputs": [],
   "source": []
  }
 ],
 "metadata": {
  "kernelspec": {
   "display_name": "Python 3",
   "language": "python",
   "name": "python3"
  },
  "language_info": {
   "codemirror_mode": {
    "name": "ipython",
    "version": 3
   },
   "file_extension": ".py",
   "mimetype": "text/x-python",
   "name": "python",
   "nbconvert_exporter": "python",
   "pygments_lexer": "ipython3",
   "version": "3.6.10"
  }
 },
 "nbformat": 4,
 "nbformat_minor": 4
}
