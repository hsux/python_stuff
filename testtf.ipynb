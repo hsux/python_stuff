{
 "cells": [
  {
   "cell_type": "code",
   "execution_count": 1,
   "metadata": {},
   "outputs": [],
   "source": [
    "import tensorflow as tf\n",
    "import numpy as np"
   ]
  },
  {
   "cell_type": "code",
   "execution_count": 2,
   "metadata": {},
   "outputs": [
    {
     "name": "stdout",
     "output_type": "stream",
     "text": [
      "1.15.0\n",
      "1.19.0\n"
     ]
    }
   ],
   "source": [
    "print(tf.__version__)\n",
    "print(np.__version__)"
   ]
  },
  {
   "cell_type": "code",
   "execution_count": 3,
   "metadata": {},
   "outputs": [
    {
     "data": {
      "text/plain": [
       "array([[0.90798814, 0.35688305, 0.48256325, 0.13176509, 0.92134274],\n",
       "       [0.06225098, 0.37163553, 0.48942766, 0.15257932, 0.92514378],\n",
       "       [0.04989791, 0.17927893, 0.73683341, 0.70041213, 0.9698109 ],\n",
       "       [0.9918749 , 0.6889319 , 0.29068061, 0.55394718, 0.84511366]])"
      ]
     },
     "execution_count": 3,
     "metadata": {},
     "output_type": "execute_result"
    }
   ],
   "source": [
    "a=np.random.random_sample((4, 5))\n",
    "a"
   ]
  },
  {
   "cell_type": "code",
   "execution_count": 4,
   "metadata": {},
   "outputs": [],
   "source": [
    "asoft=tf.nn.softmax(a)"
   ]
  },
  {
   "cell_type": "code",
   "execution_count": 5,
   "metadata": {},
   "outputs": [],
   "source": [
    "sess = tf.Session()"
   ]
  },
  {
   "cell_type": "code",
   "execution_count": 6,
   "metadata": {},
   "outputs": [
    {
     "data": {
      "text/plain": [
       "array([[0.27002291, 0.1556176 , 0.17645783, 0.12424852, 0.27365314],\n",
       "       [0.13586864, 0.18513274, 0.20827623, 0.14871279, 0.3220096 ],\n",
       "       [0.11694078, 0.13309307, 0.23243326, 0.22412005, 0.29341284],\n",
       "       [0.26712924, 0.19731266, 0.13249412, 0.17239785, 0.23066613]])"
      ]
     },
     "execution_count": 6,
     "metadata": {},
     "output_type": "execute_result"
    }
   ],
   "source": [
    "ase=sess.run(asoft)\n",
    "ase"
   ]
  },
  {
   "cell_type": "code",
   "execution_count": 7,
   "metadata": {},
   "outputs": [],
   "source": [
    "asig=tf.nn.sigmoid(a)"
   ]
  },
  {
   "cell_type": "code",
   "execution_count": 8,
   "metadata": {},
   "outputs": [
    {
     "data": {
      "text/plain": [
       "array([[0.7125883 , 0.5882857 , 0.61835296, 0.5328937 , 0.71531562],\n",
       "       [0.51555772, 0.59185412, 0.61997159, 0.538071  , 0.71608903],\n",
       "       [0.51247189, 0.54470007, 0.67630302, 0.66827914, 0.7250818 ],\n",
       "       [0.72945809, 0.66572928, 0.57216275, 0.63505088, 0.69954112]])"
      ]
     },
     "execution_count": 8,
     "metadata": {},
     "output_type": "execute_result"
    }
   ],
   "source": [
    "asi=sess.run(asig)\n",
    "asi"
   ]
  },
  {
   "cell_type": "code",
   "execution_count": 9,
   "metadata": {},
   "outputs": [],
   "source": [
    "asp=tf.nn.softplus(a)"
   ]
  },
  {
   "cell_type": "code",
   "execution_count": 10,
   "metadata": {},
   "outputs": [
    {
     "data": {
      "text/plain": [
       "array([[1.24683959, 0.88742561, 0.96325909, 0.76119841, 1.25637415],\n",
       "       [0.72475699, 0.89613062, 0.96750928, 0.77234408, 1.25909456],\n",
       "       [0.71840733, 0.78679889, 1.12794745, 1.10346145, 1.2912817 ],\n",
       "       [1.30732826, 1.09580408, 0.84901241, 1.00799733, 1.20244436]])"
      ]
     },
     "execution_count": 10,
     "metadata": {},
     "output_type": "execute_result"
    }
   ],
   "source": [
    "asp=sess.run(asp)\n",
    "asp"
   ]
  },
  {
   "cell_type": "code",
   "execution_count": 19,
   "metadata": {},
   "outputs": [
    {
     "data": {
      "text/plain": [
       "0.9999999999999999"
      ]
     },
     "execution_count": 19,
     "metadata": {},
     "output_type": "execute_result"
    }
   ],
   "source": [
    "sum(ase[1])"
   ]
  },
  {
   "cell_type": "code",
   "execution_count": 18,
   "metadata": {},
   "outputs": [
    {
     "data": {
      "text/plain": [
       "0.5748890951710182"
      ]
     },
     "execution_count": 18,
     "metadata": {},
     "output_type": "execute_result"
    }
   ],
   "source": [
    "sum(ase[:,1])"
   ]
  },
  {
   "cell_type": "code",
   "execution_count": 4,
   "metadata": {},
   "outputs": [],
   "source": [
    "import tensorflow.keras as keras\n",
    "\n",
    "class SimpleMLP(keras.Model):\n",
    "\n",
    "    def __init__(self, use_bn=True, use_dp=True, num_classes=10):\n",
    "        super(SimpleMLP, self).__init__(name='mlp')\n",
    "        self.use_bn = use_bn\n",
    "        self.use_dp = use_dp\n",
    "        self.num_classes = num_classes\n",
    "\n",
    "        self.dense1 = keras.layers.Dense(32, activation='relu')\n",
    "        self.dense2 = keras.layers.Dense(num_classes, activation='softmax')\n",
    "        if self.use_dp:\n",
    "            self.dp = keras.layers.Dropout(0.5)\n",
    "        if self.use_bn:\n",
    "            self.bn = keras.layers.BatchNormalization(axis=-1)\n",
    "\n",
    "    def call(self, inputs):\n",
    "        x = self.dense1(inputs)\n",
    "        if self.use_dp:\n",
    "            x = self.dp(x)\n",
    "        if self.use_bn:\n",
    "            x = self.bn(x)\n",
    "        return self.dense2(x)\n",
    "\n",
    "model = SimpleMLP()"
   ]
  },
  {
   "cell_type": "code",
   "execution_count": 5,
   "metadata": {},
   "outputs": [
    {
     "data": {
      "text/plain": [
       "[]"
      ]
     },
     "execution_count": 5,
     "metadata": {},
     "output_type": "execute_result"
    }
   ],
   "source": [
    "model.updates"
   ]
  },
  {
   "cell_type": "code",
   "execution_count": 8,
   "metadata": {},
   "outputs": [
    {
     "data": {
      "text/plain": [
       "[]"
      ]
     },
     "execution_count": 8,
     "metadata": {},
     "output_type": "execute_result"
    }
   ],
   "source": [
    "tf.get_collection(tf.GraphKeys.UPDATE_OPS)"
   ]
  },
  {
   "cell_type": "code",
   "execution_count": 9,
   "metadata": {},
   "outputs": [
    {
     "data": {
      "text/plain": [
       "True"
      ]
     },
     "execution_count": 9,
     "metadata": {},
     "output_type": "execute_result"
    }
   ],
   "source": [
    "isinstance(model,tf.keras.layers.Layer)"
   ]
  },
  {
   "cell_type": "code",
   "execution_count": null,
   "metadata": {},
   "outputs": [],
   "source": []
  }
 ],
 "metadata": {
  "kernelspec": {
   "display_name": "Python 3",
   "language": "python",
   "name": "python3"
  },
  "language_info": {
   "codemirror_mode": {
    "name": "ipython",
    "version": 3
   },
   "file_extension": ".py",
   "mimetype": "text/x-python",
   "name": "python",
   "nbconvert_exporter": "python",
   "pygments_lexer": "ipython3",
   "version": "3.6.10"
  }
 },
 "nbformat": 4,
 "nbformat_minor": 4
}
