{
 "cells": [
  {
   "cell_type": "code",
   "execution_count": 70,
   "metadata": {
    "collapsed": false
   },
   "outputs": [],
   "source": [
    "import re\n",
    "import requests\n",
    "import pandas\n",
    "from lxml import etree\n",
    "from datetime import datetime,timedelta\n",
    "import time"
   ]
  },
  {
   "cell_type": "markdown",
   "metadata": {},
   "source": [
    "# 认识天天基金网的数据接口\n",
    "\n",
    "参考：\n",
    "\n",
    "https://blog.csdn.net/yys1164922014/article/details/100098533?utm_medium=distribute.pc_relevant.none-task-blog-BlogCommendFromMachineLearnPai2-2.channel_param&depth_1-utm_source=distribute.pc_relevant.none-task-blog-BlogCommendFromMachineLearnPai2-2.channel_param"
   ]
  },
  {
   "cell_type": "markdown",
   "metadata": {},
   "source": [
    "## 基金代码和基金名称\n",
    "\n",
    "这是所有基金代码、基金名称简称的集合http://fund.eastmoney.com/js/fundcode_search.js\n",
    "\n",
    "数据量是接近9000条数据。这个可以简单的用个正则表达，re.findall(\"(.*?)\",url_text)匹配一下存在电脑上。然后再弄成excel文件。比较简单。"
   ]
  },
  {
   "cell_type": "code",
   "execution_count": 40,
   "metadata": {
    "collapsed": true
   },
   "outputs": [],
   "source": [
    "url = 'http://fund.eastmoney.com/js/fundcode_search.js'\n",
    "len_per_fund = 5 # 每个基金的信息有5个字段"
   ]
  },
  {
   "cell_type": "code",
   "execution_count": 47,
   "metadata": {
    "collapsed": false
   },
   "outputs": [],
   "source": [
    "response = requests.get(url)\n",
    "url_text = response.content.decode('utf-8')\n",
    "url_text_list = re.findall('\\\"(.*?)\\\"',url_text)\n",
    "num5 = int(len(url_text_list)/5)"
   ]
  },
  {
   "cell_type": "code",
   "execution_count": 48,
   "metadata": {
    "collapsed": false
   },
   "outputs": [
    {
     "data": {
      "text/plain": [
       "13965"
      ]
     },
     "execution_count": 48,
     "metadata": {},
     "output_type": "execute_result"
    }
   ],
   "source": [
    "num5"
   ]
  },
  {
   "cell_type": "code",
   "execution_count": 42,
   "metadata": {
    "collapsed": false
   },
   "outputs": [
    {
     "data": {
      "text/plain": [
       "['000001', 'HXCZHH', '华夏成长混合', '混合型-偏股', 'HUAXIACHENGZHANGHUNHE']"
      ]
     },
     "execution_count": 42,
     "metadata": {},
     "output_type": "execute_result"
    }
   ],
   "source": [
    "url_text_list[0:5]"
   ]
  },
  {
   "cell_type": "code",
   "execution_count": 49,
   "metadata": {
    "collapsed": false
   },
   "outputs": [],
   "source": [
    "with open(\"基金列表.txt\",\"w\") as f:\n",
    "    \n",
    "    wlines = []\n",
    "    for i in range(num5):\n",
    "        wline = '\\t'.join(url_text_list[i*len_per_fund:(i+1)*len_per_fund])\n",
    "        wlines.append(wline)\n",
    "    wlines = '\\n'.join(wlines)\n",
    "    f.write(wlines)"
   ]
  },
  {
   "cell_type": "markdown",
   "metadata": {},
   "source": [
    "## 基金历史净值接口\n",
    "\n",
    "url=‘http://fund.eastmoney.com/f10/F10DataApi.aspx?type=lsjz&code=110022&page=10&sdate=2019-01-01&edate=2019-02-13&per=1’\n",
    "参数情况一目了然。\n",
    "\n",
    "url变量：\n",
    "\n",
    "per=1值代表每页的数据量。最多可以有二十行，per=20。设置更高也没用。\n",
    "\n",
    "code：基金代码\n",
    "\n",
    "page：当前是第几页，从1开始到pages为止\n",
    "\n",
    "sdate：开始日期，在最后一页\n",
    "\n",
    "edate：结束日期，在第一页\n",
    "\n",
    "显示变量：\n",
    "\n",
    "records: 在当前条件下，一共有多少条记录\n",
    "\n",
    "pages：一共有多少页\n",
    "\n",
    "curpage:当前页码，与url中的page相同\n",
    "\n",
    "\n",
    "为了代码更加简洁，我设置的每页数据量是1条。这样就更辛苦电脑了。\n",
    "由于我们这要爬取全部的历史净值，所以要查询到每只基金的起始日期。\n",
    "\n",
    "var apidata={ content:\"\n",
    "净值日期\t单位净值\t累计净值\t日增长率\t申购状态\t赎回状态\t分红送配\n",
    "\n",
    "2021-07-19\t1.0295\t1.0295\t-0.38%\t场内买入\t场内卖出\t\n",
    "2021-07-16\t1.0334\t1.0334\t-0.03%\t场内买入\t场内卖出\t\n",
    "\",records:414,pages:207,curpage:21};"
   ]
  },
  {
   "cell_type": "markdown",
   "metadata": {},
   "source": [
    "## 查询基金起始日期\n",
    "\n",
    "http://fund.eastmoney.com/000001.html?spm=search\n",
    "\n",
    "自己更改中间的基金代码就好\n",
    "问题是并不是所有基金都能查到起始日期。所以在用re.findall匹配到起止日期的时候，我又加了个IF语句。以防读取不到，产生错误。"
   ]
  },
  {
   "cell_type": "code",
   "execution_count": 51,
   "metadata": {
    "collapsed": false
   },
   "outputs": [],
   "source": [
    "def get_start_date(fund_id):\n",
    "    # 返回日期字符串\n",
    "    search_url='http://fund.eastmoney.com/'+fund_id+'.html?spm=search'\n",
    "    # 获取网页内容；设置网页编码，获取起始日期\n",
    "    response = requests.get(search_url)\n",
    "    text = response.content.decode('utf-8')\n",
    "    \n",
    "    start_date = re.findall('<td><span class=\"letterSpace01\">成 立 日</span>：(.*?)</td>', text)\n",
    "    # 对无记录的基金代码进行记录，方便后续清除\n",
    "    if start_date == []:\n",
    "        start_date = ['无记录'] \n",
    "    return start_date[0] # 如果信息正常就会返回开始日期，如果有错误，就会返回无记录。都是字符串的结果"
   ]
  },
  {
   "cell_type": "markdown",
   "metadata": {},
   "source": [
    "## 根据基金的每一条数据接口的网址，把那条信息抓下来，返回list结果\n",
    "\n",
    "一条网址的信息是这样：\n",
    "\n",
    "var apidata={ content:\"\n",
    "净值日期\t单位净值\t累计净值\t日增长率\t申购状态\t赎回状态\t分红送配\n",
    "2021-07-16\t1.0334\t1.0334\t-0.03%\t场内买入\t场内卖出\t\n",
    "\",records:414,pages:207,curpage:21};"
   ]
  },
  {
   "cell_type": "code",
   "execution_count": 87,
   "metadata": {
    "collapsed": false
   },
   "outputs": [
    {
     "name": "stdout",
     "output_type": "stream",
     "text": [
      "var apidata={ content:\"<table class='w782 comm lsjz'><thead><tr><th class='first'>净值日期</th><th>单位净值</th><th>累计净值</th><th>日增长率</th><th>申购状态</th><th>赎回状态</th><th class='tor last'>分红送配</th></tr></thead><tbody><tr><td>2021-08-16</td><td class='tor bold'>1.0422</td><td class='tor bold'>1.0422</td><td class='tor bold red'>0.80%</td><td>场内买入</td><td>场内卖出</td><td class='red unbold'></td></tr></tbody></table>\",records:414,pages:414,curpage:21};\n",
      "['414']\n"
     ]
    }
   ],
   "source": [
    "response = requests.get('https://fundf10.eastmoney.com/F10DataApi.aspx?type=lsjz&code=512000&page=21&sdate=2020-01-01&edate=2021-09-13&per=1')\n",
    "text = response.text\n",
    "print(text)\n",
    "text_html = re.findall(',records:(.*?),pages:',text)\n",
    "#html = etree.HTML(text_html)\n",
    "print(text_html)\n",
    "\n"
   ]
  },
  {
   "cell_type": "code",
   "execution_count": 62,
   "metadata": {
    "collapsed": true
   },
   "outputs": [],
   "source": [
    "def get_fund_info_per1_list(url_fund):\n",
    "    # 每个基金一页一天数据，per=1，返回list\n",
    "    \n",
    "    list_info = [] # 存储基金信息\n",
    "    \n",
    "    # re.findall,xpath 匹配信息\n",
    "    response = requests.get(url_fund)\n",
    "    text = response.text\n",
    "    text_html = re.findall('content:\"(.*?)\",records:',text)[0]\n",
    "    html = etree.HTML(text_html)\n",
    "    html_data = html.xpath('//tr/td')\n",
    "    for info in html_data:\n",
    "        list_info.append(info.text)  # 每个字段一行：净值日期 单位净值 累计净值 日增长率 申购状态 赎回状态 分红送配\n",
    "    \n",
    "    return list_info"
   ]
  },
  {
   "cell_type": "code",
   "execution_count": null,
   "metadata": {
    "collapsed": true
   },
   "outputs": [],
   "source": [
    "def get_timestamp(date_str):\n",
    "    # 输入'2012-02-19' 得到浮点数时间戳\n",
    "    return time.mktime(time.strptime(date_str,\"%Y-%m-%d\"))"
   ]
  },
  {
   "cell_type": "code",
   "execution_count": 93,
   "metadata": {
    "collapsed": true
   },
   "outputs": [],
   "source": [
    "def get_cnt_days(sdate,edate):  # 计算时间段间天数，截止时间是否大于起止时间\n",
    "    stime = time.mktime(time.strptime(sdate,\"%Y-%m-%d\"))\n",
    "    etime = time.mktime(time.strptime(edate,\"%Y-%m-%d\"))\n",
    "    cnt_days = count_days = int((edate - sdate)/(24*60*60))+1\n",
    "    return (cnt_days, False if cnt_days<0 else True)"
   ]
  },
  {
   "cell_type": "code",
   "execution_count": null,
   "metadata": {
    "collapsed": true
   },
   "outputs": [],
   "source": [
    "fund_id_list = ['512000','512880']  # 基金代码\n",
    "# 每个基金的时间区间\n",
    "time_interval = [['2019-01-01','2021-09-16'],\n",
    "                 ['2019-01-01','2021-09-16']                \n",
    "                ]"
   ]
  },
  {
   "cell_type": "code",
   "execution_count": 78,
   "metadata": {
    "collapsed": false
   },
   "outputs": [],
   "source": [
    "build_date = get_start_date('512000')\n",
    "build_time_stamp = get_timestamp(build_date)"
   ]
  },
  {
   "cell_type": "code",
   "execution_count": 91,
   "metadata": {
    "collapsed": false
   },
   "outputs": [
    {
     "data": {
      "text/plain": [
       "3"
      ]
     },
     "execution_count": 91,
     "metadata": {},
     "output_type": "execute_result"
    }
   ],
   "source": [
    "count_days = int((time.mktime(time.strptime('2021-09-16',\"%Y-%m-%d\")) - time.mktime(time.strptime('2021-09-13',\"%Y-%m-%d\")))/(24*60*60))\n",
    "count_days"
   ]
  },
  {
   "cell_type": "code",
   "execution_count": null,
   "metadata": {
    "collapsed": true
   },
   "outputs": [],
   "source": []
  }
 ],
 "metadata": {
  "kernelspec": {
   "display_name": "Python 3",
   "language": "python",
   "name": "python3"
  },
  "language_info": {
   "codemirror_mode": {
    "name": "ipython",
    "version": 3
   },
   "file_extension": ".py",
   "mimetype": "text/x-python",
   "name": "python",
   "nbconvert_exporter": "python",
   "pygments_lexer": "ipython3",
   "version": "3.6.0"
  }
 },
 "nbformat": 4,
 "nbformat_minor": 2
}
